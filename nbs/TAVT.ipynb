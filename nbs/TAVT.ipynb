{
 "cells": [
  {
   "cell_type": "code",
   "execution_count": 1,
   "id": "b17fc20f-010e-428a-8d74-843e56a588d9",
   "metadata": {},
   "outputs": [],
   "source": [
    "%reload_ext autoreload\n",
    "%autoreload 2"
   ]
  },
  {
   "cell_type": "markdown",
   "id": "b065c4e2-58fe-4da9-b4f0-3310bb91943c",
   "metadata": {},
   "source": [
    "# TAVT Tests\n",
    "\n",
    "We need to reverse engineer Albert to understand why our model isn't working on the classification task. Many of my conclusions from the first set of vision transformer training should still hold. "
   ]
  },
  {
   "cell_type": "code",
   "execution_count": 28,
   "id": "dcc44618-35dd-4a3f-8dbf-2e6c669fd3fc",
   "metadata": {},
   "outputs": [],
   "source": [
    "import timm\n",
    "import torch\n",
    "\n",
    "device = 1\n",
    "bs, c, h, w = 2, 3, 224, 224\n",
    "def get_nparams(m, no_betas=False):\n",
    "    if no_betas:\n",
    "        params = [v for k,v in m.named_parameters() if \"betas\" not in k]\n",
    "    else:\n",
    "        params = list(m.parameters())\n",
    "\n",
    "    return sum(p.numel() for p in params)"
   ]
  },
  {
   "cell_type": "markdown",
   "id": "7c870f03-3edf-451b-b884-b9a802d70388",
   "metadata": {},
   "source": [
    "#### Base ALBERT"
   ]
  },
  {
   "cell_type": "code",
   "execution_count": 29,
   "id": "3ac4493e-9055-4ced-9225-4c585c73b087",
   "metadata": {},
   "outputs": [
    {
     "name": "stdout",
     "output_type": "stream",
     "text": [
      "8601064\n"
     ]
    }
   ],
   "source": [
    "model = timm.create_model(\"avt_base_patch16_224\").to(device)\n",
    "\n",
    "with torch.no_grad():\n",
    "    x = torch.randn((bs,c,h,w),device=device)\n",
    "    y = model(x)\n",
    "    nparams_og = get_nparams(model)\n",
    "    print(nparams_og)\n",
    "nparams_qkv = get_nparams(model.blocks.block.attn.qkv)"
   ]
  },
  {
   "cell_type": "markdown",
   "id": "aa8d3790-e795-4a6c-a1b0-026a01699fed",
   "metadata": {},
   "source": [
    "#### symmlp"
   ]
  },
  {
   "cell_type": "code",
   "execution_count": 30,
   "id": "0fd6086c-7488-4239-b336-c70df5170d34",
   "metadata": {},
   "outputs": [
    {
     "name": "stdout",
     "output_type": "stream",
     "text": [
      "6241768\n"
     ]
    }
   ],
   "source": [
    "model = timm.create_model(\"tavt_symmlp\").to(device)\n",
    "\n",
    "with torch.no_grad():\n",
    "    x = torch.randn((bs,c,h,w),device=device)\n",
    "    y = model(x)\n",
    "    print(get_nparams(model))"
   ]
  },
  {
   "cell_type": "code",
   "execution_count": 31,
   "id": "8c2c6855-61d3-41e8-bd2b-9b4390a1120a",
   "metadata": {},
   "outputs": [
    {
     "data": {
      "text/plain": [
       "['weight', 'bias_hid', 'bias_vis']"
      ]
     },
     "execution_count": 31,
     "metadata": {},
     "output_type": "execute_result"
    }
   ],
   "source": [
    "[k for k,v in model.blocks.block.mlp.mlp.named_parameters()]"
   ]
  },
  {
   "cell_type": "markdown",
   "id": "8970bce7-c9d1-408e-ab8c-d0a1e981b101",
   "metadata": {},
   "source": [
    "#### nobias"
   ]
  },
  {
   "cell_type": "code",
   "execution_count": 32,
   "id": "1d677c98-ff7d-469d-bd60-f02b2c0d374c",
   "metadata": {},
   "outputs": [
    {
     "name": "stdout",
     "output_type": "stream",
     "text": [
      "8594152\n"
     ]
    }
   ],
   "source": [
    "model = timm.create_model(\"tavt_nobias\").to(device)\n",
    "\n",
    "with torch.no_grad():\n",
    "    x = torch.randn((bs,c,h,w),device=device)\n",
    "    y = model(x)\n",
    "    print(get_nparams(model))"
   ]
  },
  {
   "cell_type": "markdown",
   "id": "61657dee-da9a-4bc7-a753-be2228ceba33",
   "metadata": {},
   "source": [
    "#### parallel"
   ]
  },
  {
   "cell_type": "code",
   "execution_count": 33,
   "id": "275bd237-8a9a-45cc-9c78-5f383810083b",
   "metadata": {},
   "outputs": [
    {
     "name": "stdout",
     "output_type": "stream",
     "text": [
      "8599528\n"
     ]
    }
   ],
   "source": [
    "model = timm.create_model(\"tavt_parallel\").to(device)\n",
    "\n",
    "with torch.no_grad():\n",
    "    x = torch.randn((bs,c,h,w),device=device)\n",
    "    y = model(x)\n",
    "    nparams = get_nparams(model)\n",
    "    print(nparams)"
   ]
  },
  {
   "cell_type": "code",
   "execution_count": 36,
   "id": "bc2440d7-faca-4e82-bd2b-a7a0c073035f",
   "metadata": {},
   "outputs": [],
   "source": [
    "nparams_lnorm = get_nparams(model.blocks.block.norm1)"
   ]
  },
  {
   "cell_type": "code",
   "execution_count": 37,
   "id": "b0aef9e4-2238-4a04-b6ad-f3081e30c3cb",
   "metadata": {},
   "outputs": [
    {
     "name": "stdout",
     "output_type": "stream",
     "text": [
      "8601064\n"
     ]
    }
   ],
   "source": [
    "# Make sure this aligns with the number of parameters in the OG albert\n",
    "print(nparams + nparams_lnorm)"
   ]
  },
  {
   "cell_type": "markdown",
   "id": "e14a742e-de21-46e6-8030-d1815e74e723",
   "metadata": {},
   "source": [
    "#### ReLU"
   ]
  },
  {
   "cell_type": "code",
   "execution_count": 39,
   "id": "13ff449a-7e0e-4aa3-914d-34686e5d0d8b",
   "metadata": {},
   "outputs": [
    {
     "name": "stdout",
     "output_type": "stream",
     "text": [
      "8601064\n"
     ]
    }
   ],
   "source": [
    "model = timm.create_model(\"tavt_relu\").to(device)\n",
    "\n",
    "with torch.no_grad():\n",
    "    x = torch.randn((bs,c,h,w),device=device)\n",
    "    y = model(x)\n",
    "    nparams = get_nparams(model)\n",
    "    print(nparams)"
   ]
  },
  {
   "cell_type": "markdown",
   "id": "c82cfeab-5e19-46bc-8e21-e30e7cca0e82",
   "metadata": {},
   "source": [
    "#### elnorm"
   ]
  },
  {
   "cell_type": "code",
   "execution_count": 40,
   "id": "abc1f08b-2df1-4035-b1a3-483b56653f79",
   "metadata": {},
   "outputs": [
    {
     "name": "stdout",
     "output_type": "stream",
     "text": [
      "8598763\n"
     ]
    }
   ],
   "source": [
    "model = timm.create_model(\"tavt_elnorm\").to(device)\n",
    "\n",
    "with torch.no_grad():\n",
    "    x = torch.randn((bs,c,h,w),device=device)\n",
    "    y = model(x)\n",
    "    nparams = get_nparams(model)\n",
    "    print(nparams)"
   ]
  },
  {
   "cell_type": "code",
   "execution_count": 42,
   "id": "2ea4cfb5-0169-49b9-a937-e76ca21e22f3",
   "metadata": {},
   "outputs": [
    {
     "name": "stdout",
     "output_type": "stream",
     "text": [
      "8601064\n"
     ]
    }
   ],
   "source": [
    "nparams_elnorm = get_nparams(model.blocks.block.norm1)\n",
    "print(nparams+(3*(nparams_elnorm-2)))\n",
    "# 2 in attention, 1 in ViT (nmissing from gamma)"
   ]
  },
  {
   "cell_type": "markdown",
   "id": "bd9ccc1d-c4ae-456b-a6e4-94039f08dc89",
   "metadata": {},
   "source": [
    "#### newatt"
   ]
  },
  {
   "cell_type": "code",
   "execution_count": 43,
   "id": "c8f38e04-7a8d-4328-bde1-40c5d00ba6e5",
   "metadata": {},
   "outputs": [
    {
     "name": "stdout",
     "output_type": "stream",
     "text": [
      "7419880\n"
     ]
    }
   ],
   "source": [
    "model = timm.create_model(\"tavt_newatt\").to(device)\n",
    "\n",
    "with torch.no_grad():\n",
    "    x = torch.randn((bs,c,h,w),device=device)\n",
    "    y = model(x)\n",
    "    nparams = get_nparams(model, no_betas=True)\n",
    "    print(nparams)\n",
    "    \n",
    "nparams_V = get_nparams(model.blocks.block.attn.q_proj)\n",
    "assert ((nparams_og - nparams) - (2*nparams_V)) == 0"
   ]
  },
  {
   "cell_type": "markdown",
   "id": "c72c041e-b57e-442c-b54a-30a64d93008f",
   "metadata": {},
   "source": [
    "#### BASE0\n",
    "\n",
    "Combining all the features into something that makes sense for our regime"
   ]
  },
  {
   "cell_type": "code",
   "execution_count": 17,
   "id": "1eceb848-a6c9-4eec-a6b3-036c2b9bc53d",
   "metadata": {},
   "outputs": [
    {
     "name": "stdout",
     "output_type": "stream",
     "text": [
      "5057514\n"
     ]
    }
   ],
   "source": [
    "model = timm.create_model(\"tavt_base0\").to(device)\n",
    "\n",
    "with torch.no_grad():\n",
    "    x = torch.randn((bs,c,h,w),device=device)\n",
    "    y = model(x)\n",
    "    nparams = get_nparams(model, no_betas=True)\n",
    "    print(nparams)"
   ]
  },
  {
   "cell_type": "markdown",
   "id": "480cbe32-628f-4e20-9288-b9dccae5b3db",
   "metadata": {},
   "source": [
    "#### BASE0 w/ Alpha"
   ]
  },
  {
   "cell_type": "code",
   "execution_count": 18,
   "id": "5111e50c-bb93-43c7-a47a-f1b2b43bb2c7",
   "metadata": {},
   "outputs": [
    {
     "name": "stdout",
     "output_type": "stream",
     "text": [
      "5057514\n"
     ]
    }
   ],
   "source": [
    "model = timm.create_model(\"tavt_base0_alpha\").to(device)\n",
    "\n",
    "with torch.no_grad():\n",
    "    x = torch.randn((bs,c,h,w),device=device)\n",
    "    y = model(x)\n",
    "    nparams = get_nparams(model, no_betas=True)\n",
    "    print(nparams)"
   ]
  },
  {
   "cell_type": "markdown",
   "id": "f8e09787-316b-41df-a6b6-666174cf77ba",
   "metadata": {},
   "source": [
    "#### BASE0 w/ Alpha and no bias"
   ]
  },
  {
   "cell_type": "code",
   "execution_count": 44,
   "id": "4ccb9388-6514-4412-a3fc-b998bd39e776",
   "metadata": {},
   "outputs": [
    {
     "name": "stdout",
     "output_type": "stream",
     "text": [
      "5052138\n"
     ]
    }
   ],
   "source": [
    "model = timm.create_model(\"tavt_base0_alpha_nobias\").to(device)\n",
    "\n",
    "with torch.no_grad():\n",
    "    x = torch.randn((bs,c,h,w),device=device)\n",
    "    y = model(x)\n",
    "    nparams = get_nparams(model, no_betas=True)\n",
    "    print(nparams)"
   ]
  },
  {
   "cell_type": "markdown",
   "id": "23a060f6-96ee-4c0a-ae7f-8de80aeb69f5",
   "metadata": {},
   "source": [
    "#### Test energy function"
   ]
  },
  {
   "cell_type": "code",
   "execution_count": 20,
   "id": "74776d6b-ae4d-4ae9-967f-d59b92ecc6e4",
   "metadata": {},
   "outputs": [],
   "source": [
    "def get_hidden_states(model, x):\n",
    "    self = model\n",
    "    x = self.patch_embed(x)\n",
    "    if self.cls_token is not None:\n",
    "        x = torch.cat((self.cls_token.expand(x.shape[0], -1, -1), x), dim=1)\n",
    "    x = self.pos_drop(x + self.pos_embed)\n",
    "    block = self.blocks.block\n",
    "    hidden_features = [x]\n",
    "    for i in range(len(self.blocks)):\n",
    "        x = block(x)\n",
    "        hidden_features.append(x)\n",
    "    x = self.norm(x)\n",
    "    return x, hidden_features\n",
    "\n",
    "def energy(model, x):\n",
    "    block = model.blocks.block\n",
    "    g = model.norm(x)\n",
    "    return block.attn.energy(g) + block.mlp.energy(g)"
   ]
  },
  {
   "cell_type": "code",
   "execution_count": 21,
   "id": "fbe0006f-8b72-434b-9414-aa9432610425",
   "metadata": {},
   "outputs": [],
   "source": [
    "model = timm.create_model(\"tavt_base0_alpha\").to(device)\n",
    "model.blocks.depth = 200\n",
    "\n",
    "with torch.no_grad():\n",
    "    x = torch.randn((bs,c,h,w),device=device)\n",
    "    x, xs = get_hidden_states(model, x)\n",
    "    samp = torch.stack([z[:1] for z in xs])\n",
    "    samp_energies = torch.vstack([energy(model, z) for z in samp])"
   ]
  },
  {
   "cell_type": "code",
   "execution_count": 25,
   "id": "d5c4b508-ef1f-4135-b587-37bc8ecae9d4",
   "metadata": {},
   "outputs": [
    {
     "data": {
      "text/plain": [
       "[<matplotlib.lines.Line2D at 0x7ff6e1263bb0>]"
      ]
     },
     "execution_count": 25,
     "metadata": {},
     "output_type": "execute_result"
    },
    {
     "data": {
      "image/png": "[encoded data removed]",
      "text/plain": [
       "<Figure size 432x288 with 1 Axes>"
      ]
     },
     "metadata": {
      "needs_background": "light"
     },
     "output_type": "display_data"
    }
   ],
   "source": [
    "import matplotlib.pyplot as plt\n",
    "plt.plot(samp_energies[:,1].detach().cpu().numpy())"
   ]
  },
  {
   "cell_type": "code",
   "execution_count": 26,
   "id": "67553638-3701-4695-ac37-647ea94dd1b4",
   "metadata": {},
   "outputs": [
    {
     "name": "stdout",
     "output_type": "stream",
     "text": [
      "tensor(2.4438e-06, device='cuda:1') tensor(2.1899e-07, device='cuda:1')\n"
     ]
    }
   ],
   "source": [
    "# Manual check ATTN\n",
    "model = timm.create_model(\"tavt_base0_alpha\").to(device)\n",
    "z = x.clone()\n",
    "z.requires_grad_(True)\n",
    "ga_auto = model.blocks.block.norm1(x)\n",
    "ga_auto.requires_grad_(True).retain_grad()\n",
    "out = (model.blocks.block.attn.energy(ga_auto)).sum()\n",
    "out.backward()\n",
    "\n",
    "with torch.no_grad():\n",
    "    ga_man = model.blocks.block.attn(ga_auto)\n",
    "    dga = ga_auto.grad - (-ga_man)\n",
    "\n",
    "# Close enough\n",
    "print(dga.abs().max(), dga.abs().mean())"
   ]
  },
  {
   "cell_type": "code",
   "execution_count": 27,
   "id": "f6914b17-94bf-4112-89a1-8fc5ca96cdef",
   "metadata": {},
   "outputs": [
    {
     "name": "stdout",
     "output_type": "stream",
     "text": [
      "tensor(0., device='cuda:1') tensor(0., device='cuda:1')\n"
     ]
    }
   ],
   "source": [
    "# Manual check MLP\n",
    "ga_auto.grad.zero_()\n",
    "\n",
    "z = x.clone()\n",
    "z.requires_grad_(True)\n",
    "ga_auto = model.blocks.block.norm1(x)\n",
    "ga_auto.requires_grad_(True).retain_grad()\n",
    "out = (model.blocks.block.mlp.energy(ga_auto)).sum()\n",
    "out.backward()\n",
    "\n",
    "with torch.no_grad():\n",
    "    # Bias_vis is an issue\n",
    "    model.blocks.block.mlp.mlp.bias_vis.zero_()\n",
    "    ga_man = model.blocks.block.mlp(ga_auto)\n",
    "\n",
    "dga = ga_auto.grad - (-ga_man)\n",
    "print(dga.abs().max(), dga.abs().mean())"
   ]
  },
  {
   "cell_type": "code",
   "execution_count": null,
   "id": "7d2090cf-aa7c-4d44-af3e-15c1325b24bd",
   "metadata": {},
   "outputs": [],
   "source": []
  }
 ],
 "metadata": {
  "kernelspec": {
   "display_name": "Python [conda env:timm] *",
   "language": "python",
   "name": "conda-env-timm-py"
  },
  "language_info": {
   "codemirror_mode": {
    "name": "ipython",
    "version": 3
   },
   "file_extension": ".py",
   "mimetype": "text/x-python",
   "name": "python",
   "nbconvert_exporter": "python",
   "pygments_lexer": "ipython3",
   "version": "3.9.12"
  }
 },
 "nbformat": 4,
 "nbformat_minor": 5
}
