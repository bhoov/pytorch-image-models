{
 "cells": [
  {
   "cell_type": "code",
   "execution_count": 2,
   "id": "084bd834-72bb-4df5-b59d-4cb80a76ea47",
   "metadata": {},
   "outputs": [],
   "source": [
    "%reload_ext autoreload\n",
    "%autoreload 2"
   ]
  },
  {
   "cell_type": "code",
   "execution_count": 114,
   "id": "e9904860-7ee7-4dc2-80ad-07e0d70dcddf",
   "metadata": {},
   "outputs": [],
   "source": [
    "import torch\n",
    "from torch import nn\n",
    "import pytorch_lightning as pl\n",
    "import numpy as np\n",
    "import matplotlib.pyplot as plt\n",
    "from timm.utils.lightning_train import LitTimm # WARNING: This file is COPIED from the one used for actual training\n",
    "from pathlib import Path"
   ]
  },
  {
   "cell_type": "code",
   "execution_count": 16,
   "id": "5e7c9b77-f81d-41b3-9b51-5cb8011ae314",
   "metadata": {},
   "outputs": [],
   "source": [
    "# logdir = Path(\"/gpfs/u/home/DAMT/DAMThvrb/scratch/tb_logs/\")\n",
    "ckpt = \"/gpfs/u/home/DAMT/DAMThvrb/scratch/tb_logs/TAVT01/tavt_newatt_nobiases_weightsum/checkpoints/last.ckpt\"\n",
    "model = LitTimm.load_from_checkpoint(ckpt)"
   ]
  },
  {
   "cell_type": "code",
   "execution_count": 17,
   "id": "e53c624a-287f-4254-88d0-d87a7203c81b",
   "metadata": {},
   "outputs": [
    {
     "data": {
      "text/plain": [
       "Parameter containing:\n",
       "tensor([-0.2025, -0.3117, -0.2029, -0.1456, -0.2612, -0.1953, -0.2297, -0.5367,\n",
       "        -0.1950, -0.2246, -0.6338, -0.2383], requires_grad=True)"
      ]
     },
     "execution_count": 17,
     "metadata": {},
     "output_type": "execute_result"
    }
   ],
   "source": [
    "model.model.blocks.block.attn.weight_sum"
   ]
  },
  {
   "cell_type": "markdown",
   "id": "3f668d2c-307d-4cd9-b420-9dde5d3b1e40",
   "metadata": {},
   "source": [
    "Analysis plan\n",
    "\n",
    "- Analyze the weighted sums trained over the weekend\n",
    "- Compare with K=V , norm of the value matrix\n",
    "- Check values of kqt1\n",
    "\n",
    "I will need 2 that work really well, and 2 that kinda work but are our method\n",
    "\n",
    "What if one (both) of the energy terms are supposed to be negative?\n",
    "    - Wouldn't the model just learn the negative values themselves?\n",
    "\n"
   ]
  },
  {
   "cell_type": "code",
   "execution_count": 44,
   "id": "41d736bf-119c-4057-b9e5-3d8e6ce5beb8",
   "metadata": {},
   "outputs": [
    {
     "data": {
      "text/plain": [
       "tensor([1.0000e-04, 1.0000e-04, 1.0000e-04, 1.0000e-04, 1.0000e-04, 8.9605e-01,\n",
       "        1.0000e-04, 1.0000e-04, 1.0000e-04, 1.0000e-04, 1.0000e-04, 1.0000e-04],\n",
       "       grad_fn=<ClampBackward1>)"
      ]
     },
     "execution_count": 44,
     "metadata": {},
     "output_type": "execute_result"
    }
   ],
   "source": [
    "ckpt = \"/gpfs/u/home/DAMT/DAMThvrb/scratch/tb_logs/TAVT02/tavt_newatt_weightsum_eneg4clipinit-True/checkpoints/last.ckpt\"\n",
    "model = LitTimm.load_from_checkpoint(ckpt)\n",
    "model.model.blocks.block.attn.weight_sum.clip(0.0001)"
   ]
  },
  {
   "cell_type": "code",
   "execution_count": 45,
   "id": "09a1e553-9c03-44bd-96fc-d9027c45b7f0",
   "metadata": {},
   "outputs": [
    {
     "data": {
      "text/plain": [
       "tensor([1.0000e-04, 1.0000e-04, 1.0000e-04, 1.0000e-04, 1.0000e-04, 1.0000e-04,\n",
       "        1.0000e-04, 1.0000e-04, 1.0000e-04, 1.0000e-04, 1.0000e-04, 1.0000e-04],\n",
       "       grad_fn=<ClampBackward1>)"
      ]
     },
     "execution_count": 45,
     "metadata": {},
     "output_type": "execute_result"
    }
   ],
   "source": [
    "ckpt = \"/gpfs/u/home/DAMT/DAMThvrb/scratch/tb_logs/TAVT02/tavt_newatt_weightsum_eneg4clipinit-False/checkpoints/last.ckpt\"\n",
    "model = LitTimm.load_from_checkpoint(ckpt)\n",
    "model.model.blocks.block.attn.weight_sum.clip(0.0001)"
   ]
  },
  {
   "cell_type": "code",
   "execution_count": 15,
   "id": "1d71b0c1-ccb4-46b8-bbcd-34b1818a3a6c",
   "metadata": {},
   "outputs": [
    {
     "data": {
      "text/plain": [
       "tensor(0.4455, grad_fn=<MaxBackward1>)"
      ]
     },
     "execution_count": 15,
     "metadata": {},
     "output_type": "execute_result"
    }
   ],
   "source": [
    "ckpt = \"/gpfs/u/home/DAMT/DAMThvrb/scratch/tb_logs/TAVT02/tavt_newatt_weightsum_eneg3clipinit-False/checkpoints/last.ckpt\"\n",
    "model = LitTimm.load_from_checkpoint(ckpt)\n",
    "model.model.blocks.block.attn.weight_sum.max()"
   ]
  },
  {
   "cell_type": "code",
   "execution_count": 14,
   "id": "0293ef48-90d2-47d0-9020-f1719a0284e1",
   "metadata": {},
   "outputs": [
    {
     "data": {
      "text/plain": [
       "tensor(0.4931, grad_fn=<MaxBackward1>)"
      ]
     },
     "execution_count": 14,
     "metadata": {},
     "output_type": "execute_result"
    }
   ],
   "source": [
    "ckpt = \"/gpfs/u/home/DAMT/DAMThvrb/scratch/tb_logs/TAVT02/tavt_newatt_weightsum_eneg3clipinit-True/checkpoints/last.ckpt\"\n",
    "model = LitTimm.load_from_checkpoint(ckpt)\n",
    "model.model.blocks.block.attn.weight_sum.max()"
   ]
  },
  {
   "cell_type": "code",
   "execution_count": 35,
   "id": "94021459-d3f4-4fbd-9899-5d1e6b3ae5f7",
   "metadata": {},
   "outputs": [
    {
     "data": {
      "text/plain": [
       "tensor(9.5629e-05, grad_fn=<MaxBackward1>)"
      ]
     },
     "execution_count": 35,
     "metadata": {},
     "output_type": "execute_result"
    }
   ],
   "source": [
    "ckpt = \"/gpfs/u/home/DAMT/DAMThvrb/scratch/tb_logs/TAVT02/tavt_newatt_weightsum_eneg4clipinit-False/checkpoints/last.ckpt\"\n",
    "model = LitTimm.load_from_checkpoint(ckpt)\n",
    "model.model.blocks.block.attn.weight_sum.max()"
   ]
  },
  {
   "cell_type": "code",
   "execution_count": 36,
   "id": "9cf51a74-3acb-40e2-bb79-8fef84ab8ba2",
   "metadata": {},
   "outputs": [
    {
     "data": {
      "text/plain": [
       "Parameter containing:\n",
       "tensor([0.1250, 0.1250, 0.1250, 0.1250, 0.1250, 0.1250, 0.1250, 0.1250, 0.1250,\n",
       "        0.1250, 0.1250, 0.1250])"
      ]
     },
     "execution_count": 36,
     "metadata": {},
     "output_type": "execute_result"
    }
   ],
   "source": [
    "model.model.blocks.block.attn.betas"
   ]
  },
  {
   "cell_type": "code",
   "execution_count": 42,
   "id": "9e3301a8-5d62-4a26-9d34-a8ddc5b8cef8",
   "metadata": {},
   "outputs": [
    {
     "data": {
      "text/plain": [
       "tensor([0.0010, 0.0010, 0.0010, 0.4455, 0.0010, 0.0010, 0.0010, 0.0010, 0.0010,\n",
       "        0.0010, 0.0010, 0.0010], grad_fn=<ClampBackward1>)"
      ]
     },
     "execution_count": 42,
     "metadata": {},
     "output_type": "execute_result"
    }
   ],
   "source": [
    "ckpt = \"/gpfs/u/home/DAMT/DAMThvrb/scratch/tb_logs/TAVT02/tavt_newatt_weightsum_eneg3clipinit-False/checkpoints/last.ckpt\"\n",
    "model = LitTimm.load_from_checkpoint(ckpt)\n",
    "model.model.blocks.block.attn.weight_sum.clip(0.001)"
   ]
  },
  {
   "cell_type": "code",
   "execution_count": 48,
   "id": "a611921c-3d22-4cb1-8c62-e2b7458ebd59",
   "metadata": {},
   "outputs": [
    {
     "data": {
      "text/plain": [
       "tensor([1.0000e-05, 1.0000e-05, 1.0000e-05, 1.0000e-05, 1.0000e-05, 1.0000e-05,\n",
       "        1.0000e-05, 1.0000e-05, 1.0000e-05, 1.0000e-05, 1.0000e-05, 1.0000e-05],\n",
       "       grad_fn=<ClampBackward1>)"
      ]
     },
     "execution_count": 48,
     "metadata": {},
     "output_type": "execute_result"
    }
   ],
   "source": [
    "ckpt = \"/gpfs/u/home/DAMT/DAMThvrb/scratch/tb_logs/TAVT02/tavt_newatt_weightsum_eneg5clipinit-True/checkpoints/last.ckpt\"\n",
    "model = LitTimm.load_from_checkpoint(ckpt)\n",
    "model.model.blocks.block.attn.weight_sum.clip(0.00001)"
   ]
  },
  {
   "cell_type": "code",
   "execution_count": 49,
   "id": "02797156-faaf-43bb-a892-649f365039fb",
   "metadata": {},
   "outputs": [],
   "source": [
    "ckpt = \"/gpfs/u/home/DAMT/DAMThvrb/scratch/tb_logs/TAVT01/tavt_newatt_nobiases_hmix/checkpoints/last.ckpt\"\n",
    "model = LitTimm.load_from_checkpoint(ckpt)\n",
    "# model.model.blocks.block.attn.weight_sum.clip(0.001)"
   ]
  },
  {
   "cell_type": "code",
   "execution_count": 53,
   "id": "5f86daef-2aa8-4cf3-aa6f-f515d4b0c089",
   "metadata": {},
   "outputs": [],
   "source": [
    "W = model.model.blocks.block.attn.headmixer.weight"
   ]
  },
  {
   "cell_type": "code",
   "execution_count": 54,
   "id": "cabdcb60-9f79-4354-89a7-02cf8d8583e9",
   "metadata": {},
   "outputs": [],
   "source": [
    "A = W @ W.T"
   ]
  },
  {
   "cell_type": "code",
   "execution_count": 59,
   "id": "ec53e4fc-ce1c-4fed-924b-d5b7b432c7a8",
   "metadata": {},
   "outputs": [],
   "source": [
    "evals, evecs = torch.linalg.eigh(A)"
   ]
  },
  {
   "cell_type": "code",
   "execution_count": 60,
   "id": "8301acf6-6fba-4a46-8441-bf44a9765f02",
   "metadata": {},
   "outputs": [
    {
     "data": {
      "text/plain": [
       "tensor([-3.4453e-08, -1.0356e-08, -6.9687e-09, -3.3044e-09, -3.8899e-10,\n",
       "         1.4360e-09,  3.6544e-09,  1.0649e-08,  1.4137e-08,  1.8588e-08,\n",
       "         8.0763e-08,  9.2467e-01], grad_fn=<LinalgEighBackward>)"
      ]
     },
     "execution_count": 60,
     "metadata": {},
     "output_type": "execute_result"
    }
   ],
   "source": [
    "evals"
   ]
  },
  {
   "cell_type": "code",
   "execution_count": 64,
   "id": "0d4d08d9-f03d-41c6-8b22-f05a6b9f6264",
   "metadata": {},
   "outputs": [],
   "source": [
    "x = torch.randn(12)"
   ]
  },
  {
   "cell_type": "code",
   "execution_count": 65,
   "id": "1627a20e-6f5e-4f78-a9b1-f5e28bf01543",
   "metadata": {},
   "outputs": [
    {
     "data": {
      "text/plain": [
       "tensor([-0.0131, -0.0397,  0.0356, -0.0229, -0.0115,  0.0371, -0.0152,  0.0303,\n",
       "        -0.0192, -0.0403, -0.0186, -0.0517], grad_fn=<MvBackward>)"
      ]
     },
     "execution_count": 65,
     "metadata": {},
     "output_type": "execute_result"
    }
   ],
   "source": [
    "A @ x"
   ]
  },
  {
   "cell_type": "code",
   "execution_count": 82,
   "id": "aa7b8029-b32e-4a08-b578-0c01c79aaaba",
   "metadata": {},
   "outputs": [],
   "source": [
    "v = evecs[:,-1]"
   ]
  },
  {
   "cell_type": "code",
   "execution_count": null,
   "id": "522a468d-0889-4cd5-9b8a-20931a77ce42",
   "metadata": {},
   "outputs": [
    {
     "data": {
      "text/plain": [
       "tensor([ 0.0000e+00,  8.9407e-08,  2.9802e-08,  1.4901e-08,  1.4901e-08,\n",
       "        -2.9802e-08,  2.9802e-08, -2.9802e-08,  0.0000e+00,  2.9802e-08,\n",
       "         2.9802e-08,  5.9605e-08], grad_fn=<SubBackward0>)"
      ]
     },
     "execution_count": 84,
     "metadata": {},
     "output_type": "execute_result"
    }
   ],
   "source": [
    "evals[-1] * v - (A @ v)"
   ]
  },
  {
   "cell_type": "code",
   "execution_count": null,
   "id": "2e7da528-f0b9-40ab-94a1-435813304ab0",
   "metadata": {},
   "outputs": [
    {
     "data": {
      "text/plain": [
       "tensor([-3.4453e-08, -1.0356e-08, -6.9687e-09, -3.3044e-09, -3.8899e-10,\n",
       "         1.4360e-09,  3.6544e-09,  1.0649e-08,  1.4137e-08,  1.8588e-08,\n",
       "         8.0763e-08,  9.2467e-01], grad_fn=<LinalgEighBackward>)"
      ]
     },
     "execution_count": 87,
     "metadata": {},
     "output_type": "execute_result"
    }
   ],
   "source": [
    "evals"
   ]
  },
  {
   "cell_type": "markdown",
   "id": "e9fbd260-6a5e-49b6-a52a-c99be4318c08",
   "metadata": {},
   "source": [
    "## Checking ortho2"
   ]
  },
  {
   "cell_type": "code",
   "execution_count": 149,
   "id": "cc3857ad-b599-4f4a-970b-7d1fd20b6c2d",
   "metadata": {},
   "outputs": [
    {
     "name": "stdout",
     "output_type": "stream",
     "text": [
      "tensor([0.999999, 1.000000, 0.999999, 1.000000, 1.000000, 1.000000, 1.000000,\n",
      "        1.000000, 1.000000, 1.000000, 1.000000, 1.000001],\n",
      "       grad_fn=<DiagBackward>)\n",
      "tensor(2.033608e-07, grad_fn=<MaxBackward1>)\n"
     ]
    }
   ],
   "source": [
    "# logdir = Path(\"/gpfs/u/home/DAMT/DAMThvrb/scratch/tb_logs/\")\n",
    "ckpt = \"/gpfs/u/home/DAMT/DAMThvrb/scratch/tb_logs/TAVT03/tavt_newatt_nobiases_hmix_ortho2/checkpoints/last.ckpt\"\n",
    "model = LitTimm.load_from_checkpoint(ckpt)\n",
    "\n",
    "# Check headmixing orthogonality\n",
    "HM = model.model.blocks.block.attn.headmixer\n",
    "Lold = HM.parametrizations.weight[0].L\n",
    "HM.parametrizations.weight[0].L = nn.Parameter(torch.ones_like(Lold))\n",
    "W = HM.weight\n",
    "res = W @ W.T # Close to identity\n",
    "print(torch.diag(res))\n",
    "print(torch.triu(res,1).max())"
   ]
  },
  {
   "cell_type": "code",
   "execution_count": 151,
   "id": "17e7ebbb-9e43-4aa0-8587-2a48e6a2d382",
   "metadata": {},
   "outputs": [
    {
     "data": {
      "text/plain": [
       "1.0"
      ]
     },
     "execution_count": 151,
     "metadata": {},
     "output_type": "execute_result"
    }
   ],
   "source": [
    "HM.parametrizations.weight[0].Lclip_max"
   ]
  },
  {
   "cell_type": "code",
   "execution_count": 147,
   "id": "1f887caf-eda0-4fe3-be0d-0333021949f6",
   "metadata": {},
   "outputs": [
    {
     "data": {
      "text/plain": [
       "Parameter containing:\n",
       "tensor([0.049830, 0.350156, 0.350088, 0.351038, 0.350151, 0.346906, 0.830839,\n",
       "        0.506304, 0.376687, 0.533895, 0.386158, 0.056187], requires_grad=True)"
      ]
     },
     "execution_count": 147,
     "metadata": {},
     "output_type": "execute_result"
    }
   ],
   "source": [
    "torch.set_printoptions(precision=6)\n",
    "\n",
    "Lold"
   ]
  },
  {
   "cell_type": "code",
   "execution_count": 144,
   "id": "4b49a92c-c4bc-4afb-acae-3bfe7a1e4076",
   "metadata": {},
   "outputs": [
    {
     "name": "stdout",
     "output_type": "stream",
     "text": [
      "tensor([1.2998, 0.9652, 0.9908, 1.0040, 1.0180, 1.0039, 0.7318, 1.0388, 1.0315,\n",
      "        1.0280, 1.1064, 1.2178], grad_fn=<DiagBackward>)\n",
      "tensor(0.2303, grad_fn=<MaxBackward1>)\n"
     ]
    }
   ],
   "source": [
    "# Or, we can divide by clipped version of L\n",
    "HM.parametrizations.weight[0].L = Lold\n",
    "W = HM.weight\n",
    "lmin = HM.parametrizations.weight[0].Lclip_min\n",
    "lmax = HM.parametrizations.weight[0].Lclip_max\n",
    "\n",
    "# Close to identity\n",
    "res = torch.einsum(\"ml,l->ml\", W, 1/(Lold.clip(lmin, lmax)))\n",
    "print(torch.diag(res))\n",
    "print(torch.triu(res,1).max())"
   ]
  },
  {
   "cell_type": "code",
   "execution_count": 152,
   "id": "3090252b-1b00-4d10-a37d-3ce8f1a8e66b",
   "metadata": {},
   "outputs": [],
   "source": [
    "ckpt = \"/gpfs/u/home/DAMT/DAMThvrb/scratch/tb_logs/TAVT03/tavt_newatt_1head_nobiases_weightsum/checkpoints/last.ckpt\"\n",
    "model = LitTimm.load_from_checkpoint(ckpt)\n"
   ]
  },
  {
   "cell_type": "code",
   "execution_count": 158,
   "id": "9a68c9f0-62c8-44b7-91a8-74f43b44a619",
   "metadata": {},
   "outputs": [
    {
     "data": {
      "text/plain": [
       "Parameter containing:\n",
       "tensor([-0.000361], requires_grad=True)"
      ]
     },
     "execution_count": 158,
     "metadata": {},
     "output_type": "execute_result"
    }
   ],
   "source": [
    "model.model.blocks.block.attn.weight_sum"
   ]
  }
 ],
 "metadata": {
  "kernelspec": {
   "display_name": "Python [conda env:timm] *",
   "language": "python",
   "name": "conda-env-timm-py"
  },
  "language_info": {
   "codemirror_mode": {
    "name": "ipython",
    "version": 3
   },
   "file_extension": ".py",
   "mimetype": "text/x-python",
   "name": "python",
   "nbconvert_exporter": "python",
   "pygments_lexer": "ipython3",
   "version": "3.9.12"
  }
 },
 "nbformat": 4,
 "nbformat_minor": 5
}
