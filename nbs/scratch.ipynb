{
 "cells": [
  {
   "cell_type": "code",
   "execution_count": 1,
   "id": "82757248-691f-4d95-9301-4b819c53ac1e",
   "metadata": {},
   "outputs": [],
   "source": [
    "%reload_ext autoreload\n",
    "%autoreload 2"
   ]
  },
  {
   "cell_type": "code",
   "execution_count": 4,
   "id": "b512b985-aec8-4942-b15b-cc7fa0c3bd89",
   "metadata": {},
   "outputs": [
    {
     "name": "stderr",
     "output_type": "stream",
     "text": [
      "/gpfs/u/home/DAMT/DAMThvrb/scratch/miniconda3-ppc/envs/timm/lib/python3.9/site-packages/tqdm/auto.py:22: TqdmWarning: IProgress not found. Please update jupyter and ipywidgets. See https://ipywidgets.readthedocs.io/en/stable/user_install.html\n",
      "  from .autonotebook import tqdm as notebook_tqdm\n"
     ]
    }
   ],
   "source": [
    "from typing import *\n",
    "import math\n",
    "import torch\n",
    "from torch import nn\n",
    "import torch.nn.functional as F\n",
    "from einops import rearrange\n",
    "from timm.models.layers import DropPath\n",
    "from timm.models.layers.helpers import to_2tuple\n",
    "import functools as ft\n",
    "import numbers\n",
    "from tqdm import tqdm\n",
    "import matplotlib.pyplot as plt\n",
    "\n",
    "from timm.models.energy_transformer import ClassicalHopfield, HopfieldMLP, KQEnergyBlock, KQAlignedAttention, EnergyLayerNorm"
   ]
  },
  {
   "cell_type": "markdown",
   "id": "33f6743d-2ec3-414c-a18d-3e828159b1b2",
   "metadata": {
    "tags": []
   },
   "source": [
    "# Test energy transformer"
   ]
  },
  {
   "cell_type": "code",
   "execution_count": 5,
   "id": "eb1dc74e-770f-4459-8443-904169f42a6b",
   "metadata": {},
   "outputs": [],
   "source": [
    "mod = HopfieldMLP(768, 4*768, bias=False).to(0)\n",
    "x = torch.randn((32, 768), device=0)"
   ]
  },
  {
   "cell_type": "code",
   "execution_count": 6,
   "id": "eb58b8fc-5147-4c8b-bdcd-8b069d73abc3",
   "metadata": {},
   "outputs": [],
   "source": [
    "depth = 100\n",
    "alpha = 0.1\n",
    "norm = nn.LayerNorm(x.shape[-1], elementwise_affine=False)\n",
    "xx = x\n",
    "energies = [mod.energy(xx)]\n",
    "with torch.no_grad():\n",
    "    for i in range(depth):\n",
    "        g = norm(xx)\n",
    "        xx = x - mod(g)\n",
    "        energies.append(mod.energy(xx))\n",
    "energies = torch.stack(energies)"
   ]
  },
  {
   "cell_type": "code",
   "execution_count": 7,
   "id": "cbafd25e-5247-40ea-a97b-647487314b30",
   "metadata": {},
   "outputs": [
    {
     "data": {
      "text/plain": [
       "[<matplotlib.lines.Line2D at 0x7ffed83b7490>]"
      ]
     },
     "execution_count": 7,
     "metadata": {},
     "output_type": "execute_result"
    },
    {
     "data": {
      "image/png": "[encoded data removed]",
      "text/plain": [
       "<Figure size 432x288 with 1 Axes>"
      ]
     },
     "metadata": {
      "needs_background": "light"
     },
     "output_type": "display_data"
    }
   ],
   "source": [
    "plt.plot(energies.detach().cpu().numpy()[:,0])"
   ]
  },
  {
   "cell_type": "code",
   "execution_count": 8,
   "id": "f49494b1-5371-4549-9b02-297f7c266e37",
   "metadata": {},
   "outputs": [],
   "source": [
    "#hide\n",
    "bs, N, dim = 32,196,768\n",
    "nheads=8\n",
    "attn = KQAlignedAttention(dim, nheads, False, head_dim=64).to(0)\n",
    "toks = torch.randn(bs,N,dim).to(0)\n",
    "toks_out = attn(toks)"
   ]
  },
  {
   "cell_type": "code",
   "execution_count": 9,
   "id": "40fd8de7-40dc-4e79-a8c3-b7e7ef7ee66f",
   "metadata": {},
   "outputs": [
    {
     "data": {
      "text/plain": [
       "['betas', 'q_proj.weight', 'k_proj.weight']"
      ]
     },
     "execution_count": 9,
     "metadata": {},
     "output_type": "execute_result"
    }
   ],
   "source": [
    "[k for k,v in attn.named_parameters()]"
   ]
  },
  {
   "cell_type": "code",
   "execution_count": 10,
   "id": "56b9b291-955c-425c-b5f6-d92f8cb3b192",
   "metadata": {},
   "outputs": [
    {
     "name": "stderr",
     "output_type": "stream",
     "text": [
      "100%|██████████████████████████████████████████████████████████████████████████████████████████████████████████████████████████████████████████████████████████████████████████████████████████████████████| 100/100 [00:00<00:00, 158.52it/s]\n"
     ]
    }
   ],
   "source": [
    "# Naive check: am I descending energy?\n",
    "alpha = 1\n",
    "depth = 100\n",
    "x = toks\n",
    "norm = nn.LayerNorm(x.shape[-1], elementwise_affine=False, device=x.device)\n",
    "energies = [attn.energy(norm(x))]\n",
    "with torch.no_grad():\n",
    "    for i in tqdm(range(depth)):\n",
    "        g = norm(x)\n",
    "        x = x - alpha*attn(g)\n",
    "        energies.append(attn.energy(norm(x)))\n",
    "    \n",
    "energies=torch.stack(energies)"
   ]
  },
  {
   "cell_type": "code",
   "execution_count": 11,
   "id": "69237079-c517-471b-aca9-f62c24735d36",
   "metadata": {},
   "outputs": [
    {
     "data": {
      "text/plain": [
       "[<matplotlib.lines.Line2D at 0x7ffed82407f0>]"
      ]
     },
     "execution_count": 11,
     "metadata": {},
     "output_type": "execute_result"
    },
    {
     "data": {
      "image/png": "[encoded data removed]",
      "text/plain": [
       "<Figure size 432x288 with 1 Axes>"
      ]
     },
     "metadata": {
      "needs_background": "light"
     },
     "output_type": "display_data"
    }
   ],
   "source": [
    "plt.plot(energies[:,0].detach().cpu().numpy())"
   ]
  },
  {
   "cell_type": "code",
   "execution_count": 12,
   "id": "b76169ac-26e9-4eac-b250-2d20d73377ef",
   "metadata": {},
   "outputs": [],
   "source": [
    "class EnergyLayerNorm(nn.Module):\n",
    "    def __init__(self, normalized_shape: Union[int, List[int], torch.Size], eps: float=1e-5, train_scale=True, train_bias=True, device=None, dtype=None):\n",
    "        \"\"\"An energy plausible version of layernorm, assumes the dimension of interest is dim=-1\"\"\"\n",
    "        factory_kwargs = {'device': device, 'dtype': dtype}\n",
    "        super().__init__()\n",
    "        self.train_scale = train_scale\n",
    "        self.train_bias = train_bias\n",
    "        self.normalized_shape=normalized_shape\n",
    "        \n",
    "        if self.train_scale:\n",
    "            self.weight = nn.Parameter(torch.empty(1, **factory_kwargs))\n",
    "        else:\n",
    "            self.register_parameter('weight', None)\n",
    "            \n",
    "        if self.train_bias:\n",
    "            self.bias = nn.Parameter(torch.empty(self.normalized_shape, **factory_kwargs))\n",
    "        else:\n",
    "            self.register_parameter('bias', None)\n",
    "        \n",
    "        self.reset_parameters()\n",
    "        \n",
    "    def reset_parameters(self) -> None:\n",
    "        if self.train_scale:\n",
    "            nn.init.ones_(self.weight)\n",
    "        if self.train_bias:\n",
    "            nn.init.zeros_(self.bias)\n",
    "            \n",
    "    def forward(self, x: torch.Tensor) -> torch.Tensor:\n",
    "        weight = self.weight if self.train_scale else 1.\n",
    "        bias = self.bias if self.train_bias else 0.\n",
    "                \n",
    "        std, mean = torch.std_mean(x, -1, keepdim=True)\n",
    "        return weight * (x - mean) / std + bias \n",
    "    \n",
    "class KQEnergyBlock(nn.Module):\n",
    "    def __init__(\n",
    "            self, dim, num_heads, mlp_ratio=4., qkv_bias=False, init_values=None, act_layer=nn.ReLU):#, norm_layer=EnergyLayerNorm):\n",
    "        super().__init__()\n",
    "        self.attn = KQAlignedAttention(dim, num_heads=num_heads, qkv_bias=qkv_bias)\n",
    "        self.chn = HopfieldMLP(in_features=dim, hidden_features=int(dim * mlp_ratio), act_layer=act_layer)\n",
    "\n",
    "    def forward(self, g, alpha=0.1):\n",
    "        return self.attn(g) + self.chn(g)\n",
    "\n",
    "    def energy(self, x):\n",
    "        return self.attn.energy(x) + self.chn.energy(x).sum(-1)"
   ]
  },
  {
   "cell_type": "code",
   "execution_count": 13,
   "id": "d96250f9-e4bf-403f-9cc9-8b4eb46fdd61",
   "metadata": {},
   "outputs": [],
   "source": [
    "block = KQEnergyBlock(768, 8).to(toks.device)"
   ]
  },
  {
   "cell_type": "code",
   "execution_count": 14,
   "id": "be41d53d-9d1b-46da-b297-c25c033a57a1",
   "metadata": {},
   "outputs": [
    {
     "name": "stderr",
     "output_type": "stream",
     "text": [
      "100%|████████████████████████████████████████████████████████████████████████████████████████████████████████████████████████████████████████████████████████████████████████████████████████████████████| 1000/1000 [00:02<00:00, 477.11it/s]\n"
     ]
    }
   ],
   "source": [
    "# Naive check: am I descending energy?\n",
    "alpha = 0.1\n",
    "depth = 1000\n",
    "n_energies = 1000\n",
    "energy_every = depth // n_energies\n",
    "x = toks[:1]\n",
    "norm = EnergyLayerNorm(x.shape[-1], device=x.device)\n",
    "energies = torch.empty(n_energies+1)\n",
    "energies[0] = block.energy(norm(x))[0]\n",
    "with torch.no_grad():\n",
    "    for i in tqdm(range(depth)):\n",
    "        g = norm(x)\n",
    "        x = x - alpha*block(g)\n",
    "        if ((i+1)%energy_every) == 0:\n",
    "            j = (i+1) // energy_every\n",
    "            energies[j] = block.energy(norm(x))[0]"
   ]
  },
  {
   "cell_type": "code",
   "execution_count": 15,
   "id": "99497602-37a5-47d2-83d4-c436d98c90fb",
   "metadata": {},
   "outputs": [
    {
     "data": {
      "text/plain": [
       "[<matplotlib.lines.Line2D at 0x7ffed81c68e0>]"
      ]
     },
     "execution_count": 15,
     "metadata": {},
     "output_type": "execute_result"
    },
    {
     "data": {
      "image/png": "[encoded data removed]",
      "text/plain": [
       "<Figure size 432x288 with 1 Axes>"
      ]
     },
     "metadata": {
      "needs_background": "light"
     },
     "output_type": "display_data"
    }
   ],
   "source": [
    "plt.plot(energies.detach().cpu().numpy())"
   ]
  },
  {
   "cell_type": "code",
   "execution_count": 16,
   "id": "e8ff4f65-bc61-4596-8110-b5e03dab6f9f",
   "metadata": {},
   "outputs": [],
   "source": [
    "from timm.models.helpers import checkpoint_seq"
   ]
  },
  {
   "cell_type": "code",
   "execution_count": 17,
   "id": "b1789d91-8dac-4725-a847-12e81439e601",
   "metadata": {},
   "outputs": [],
   "source": [
    "from timm.models.energy_transformer import EnergyVisionTransformer"
   ]
  },
  {
   "cell_type": "code",
   "execution_count": 18,
   "id": "f4224fdf-860c-4c7b-9385-1ef912b2bb3b",
   "metadata": {},
   "outputs": [],
   "source": [
    "bs, C,H,W = 7, 3, 224, 224\n",
    "x = torch.randn((bs,C,H,W)).to(0)\n",
    "model=EnergyVisionTransformer(embed_dim=768, num_heads=8, qkv_bias=False, depth=1).to(0)"
   ]
  },
  {
   "cell_type": "code",
   "execution_count": 19,
   "id": "230486a4-fa15-4ec2-b636-38f760c2ed83",
   "metadata": {},
   "outputs": [],
   "source": [
    "y = model.forward_features(x)"
   ]
  },
  {
   "cell_type": "code",
   "execution_count": 20,
   "id": "455828af-2729-45fe-9df5-44d07eeef7ab",
   "metadata": {},
   "outputs": [],
   "source": [
    "import timm"
   ]
  },
  {
   "cell_type": "code",
   "execution_count": 70,
   "id": "afbb70b8-3367-45c6-b254-655652fae619",
   "metadata": {},
   "outputs": [],
   "source": [
    "model = timm.models.create_model(\"et_base_patch16_224\", qkv_bias=True).to(0)"
   ]
  },
  {
   "cell_type": "code",
   "execution_count": 71,
   "id": "666dc500-1404-4afb-97fd-f77d403fce30",
   "metadata": {},
   "outputs": [
    {
     "data": {
      "text/plain": [
       "['cls_token',\n",
       " 'pos_embed',\n",
       " 'patch_embed.proj.weight',\n",
       " 'patch_embed.proj.bias',\n",
       " 'block.attn.betas',\n",
       " 'block.attn.q_proj.weight',\n",
       " 'block.attn.q_proj.bias',\n",
       " 'block.attn.k_proj.weight',\n",
       " 'block.attn.k_proj.bias',\n",
       " 'block.chn.mlp.weight',\n",
       " 'norm.weight',\n",
       " 'norm.bias',\n",
       " 'fc_norm.weight',\n",
       " 'fc_norm.bias',\n",
       " 'head.weight',\n",
       " 'head.bias']"
      ]
     },
     "execution_count": 71,
     "metadata": {},
     "output_type": "execute_result"
    }
   ],
   "source": [
    "[k for k,v in model.named_parameters()]"
   ]
  },
  {
   "cell_type": "code",
   "execution_count": 60,
   "id": "7de176f2-0857-4421-87a2-5edf363dcb72",
   "metadata": {},
   "outputs": [],
   "source": [
    "y = model.forward_features(x, 0.1)"
   ]
  },
  {
   "cell_type": "code",
   "execution_count": 61,
   "id": "d55b6ca7-3ff9-4112-9ac4-271fab5939d2",
   "metadata": {},
   "outputs": [],
   "source": [
    "z = model.forward_head(y)"
   ]
  },
  {
   "cell_type": "markdown",
   "id": "6b753ee9-6e2e-48cf-aaa2-16a8f3fa3351",
   "metadata": {},
   "source": [
    "# Pytorch lightning from TIMM model"
   ]
  },
  {
   "cell_type": "code",
   "execution_count": 68,
   "id": "45394610-b3b5-45b4-847e-72a4cd97303d",
   "metadata": {},
   "outputs": [],
   "source": [
    "import pytorch_lightning as pl\n",
    "import torch\n",
    "from torch import nn\n",
    "import torch.nn.functional as F"
   ]
  },
  {
   "cell_type": "code",
   "execution_count": 72,
   "id": "867d14b1-61e0-4deb-80c5-e05ccf922be5",
   "metadata": {},
   "outputs": [],
   "source": [
    "from timm.scheduler import StepLRScheduler\n",
    "class TimmStepLRScheduler(torch.optim.lr_scheduler.LambdaLR):\n",
    "    def __init__(self, optim, **kwargs):\n",
    "        self.init_lr = optim.param_groups[0][\"lr\"]\n",
    "        self.timmsteplr = StepLRScheduler(optim, **kwargs)\n",
    "        super().__init__(optim, self)\n",
    "\n",
    "    def __call__(self, epoch):\n",
    "        desired_lr = self.timmsteplr.get_epoch_values(epoch)[0]\n",
    "        mult = desired_lr / self.init_lr\n",
    "        return mult"
   ]
  },
  {
   "cell_type": "code",
   "execution_count": 85,
   "id": "0787c0c1-655f-49ad-b069-99ccc5aac832",
   "metadata": {},
   "outputs": [
    {
     "data": {
      "text/plain": [
       "_StoreTrueAction(option_strings=['--log-wandb'], dest='log_wandb', nargs=0, const=True, default=False, type=None, choices=None, help='log training and validation metrics to wandb', metavar=None)"
      ]
     },
     "execution_count": 85,
     "metadata": {},
     "output_type": "execute_result"
    }
   ],
   "source": [
    "import argparse\n",
    "import functools as ft\n",
    "import pytorch_lightning as pl\n",
    "# from krotorch.utils import get_cosine_schedule_with_warmup\n",
    "# from krotorch.vitam.data import show_tensor\n",
    "import timm\n",
    "from timm.data import create_dataset, create_loader, resolve_data_config, Mixup, FastCollateMixup, AugMixDataset\n",
    "from timm.models import create_model, safe_model_name, resume_checkpoint, load_checkpoint,\\\n",
    "    convert_splitbn_model, model_parameters\n",
    "from timm.utils import *\n",
    "from timm.loss import *\n",
    "from timm.optim import create_optimizer_v2, optimizer_kwargs\n",
    "from timm.scheduler import create_scheduler\n",
    "from timm.utils import ApexScaler, NativeScaler\n",
    "\n",
    "config_parser = parser = argparse.ArgumentParser(description='Training Config', add_help=False)\n",
    "parser.add_argument('-c', '--config', default='', type=str, metavar='FILE',\n",
    "                    help='YAML config file specifying default arguments')\n",
    "\n",
    "\n",
    "parser = argparse.ArgumentParser(description='PyTorch ImageNet Training')\n",
    "\n",
    "# Dataset parameters\n",
    "parser.add_argument('data_dir', metavar='DIR',\n",
    "                    help='path to dataset')\n",
    "parser.add_argument('--dataset', '-d', metavar='NAME', default='',\n",
    "                    help='dataset type (default: ImageFolder/ImageTar if empty)')\n",
    "parser.add_argument('--train-split', metavar='NAME', default='train',\n",
    "                    help='dataset train split (default: train)')\n",
    "parser.add_argument('--val-split', metavar='NAME', default='validation',\n",
    "                    help='dataset validation split (default: validation)')\n",
    "parser.add_argument('--dataset-download', action='store_true', default=False,\n",
    "                    help='Allow download of dataset for torch/ and tfds/ datasets that support it.')\n",
    "parser.add_argument('--class-map', default='', type=str, metavar='FILENAME',\n",
    "                    help='path to class to idx mapping file (default: \"\")')\n",
    "\n",
    "# Model parameters\n",
    "parser.add_argument('--model', default='resnet50', type=str, metavar='MODEL',\n",
    "                    help='Name of model to train (default: \"resnet50\"')\n",
    "parser.add_argument('--pretrained', action='store_true', default=False,\n",
    "                    help='Start with pretrained version of specified network (if avail)')\n",
    "parser.add_argument('--initial-checkpoint', default='', type=str, metavar='PATH',\n",
    "                    help='Initialize model from this checkpoint (default: none)')\n",
    "parser.add_argument('--resume', default='', type=str, metavar='PATH',\n",
    "                    help='Resume full model and optimizer state from checkpoint (default: none)')\n",
    "parser.add_argument('--no-resume-opt', action='store_true', default=False,\n",
    "                    help='prevent resume of optimizer state when resuming model')\n",
    "parser.add_argument('--num-classes', type=int, default=None, metavar='N',\n",
    "                    help='number of label classes (Model default if None)')\n",
    "parser.add_argument('--gp', default=None, type=str, metavar='POOL',\n",
    "                    help='Global pool type, one of (fast, avg, max, avgmax, avgmaxc). Model default if None.')\n",
    "parser.add_argument('--img-size', type=int, default=None, metavar='N',\n",
    "                    help='Image patch size (default: None => model default)')\n",
    "parser.add_argument('--input-size', default=None, nargs=3, type=int,\n",
    "                    metavar='N N N', help='Input all image dimensions (d h w, e.g. --input-size 3 224 224), uses model default if empty')\n",
    "parser.add_argument('--crop-pct', default=None, type=float,\n",
    "                    metavar='N', help='Input image center crop percent (for validation only)')\n",
    "parser.add_argument('--mean', type=float, nargs='+', default=None, metavar='MEAN',\n",
    "                    help='Override mean pixel value of dataset')\n",
    "parser.add_argument('--std', type=float, nargs='+', default=None, metavar='STD',\n",
    "                    help='Override std deviation of dataset')\n",
    "parser.add_argument('--interpolation', default='', type=str, metavar='NAME',\n",
    "                    help='Image resize interpolation type (overrides model)')\n",
    "parser.add_argument('-b', '--batch-size', type=int, default=128, metavar='N',\n",
    "                    help='Input batch size for training (default: 128)')\n",
    "parser.add_argument('-vb', '--validation-batch-size', type=int, default=None, metavar='N',\n",
    "                    help='Validation batch size override (default: None)')\n",
    "parser.add_argument('--channels-last', action='store_true', default=False,\n",
    "                    help='Use channels_last memory layout')\n",
    "parser.add_argument('--torchscript', dest='torchscript', action='store_true',\n",
    "                    help='torch.jit.script the full model')\n",
    "parser.add_argument('--fuser', default='', type=str,\n",
    "                    help=\"Select jit fuser. One of ('', 'te', 'old', 'nvfuser')\")\n",
    "parser.add_argument('--grad-checkpointing', action='store_true', default=False,\n",
    "                    help='Enable gradient checkpointing through model blocks/stages')\n",
    "\n",
    "# Optimizer parameters\n",
    "parser.add_argument('--opt', default='sgd', type=str, metavar='OPTIMIZER',\n",
    "                    help='Optimizer (default: \"sgd\"')\n",
    "parser.add_argument('--opt-eps', default=None, type=float, metavar='EPSILON',\n",
    "                    help='Optimizer Epsilon (default: None, use opt default)')\n",
    "parser.add_argument('--opt-betas', default=None, type=float, nargs='+', metavar='BETA',\n",
    "                    help='Optimizer Betas (default: None, use opt default)')\n",
    "parser.add_argument('--momentum', type=float, default=0.9, metavar='M',\n",
    "                    help='Optimizer momentum (default: 0.9)')\n",
    "parser.add_argument('--weight-decay', type=float, default=2e-5,\n",
    "                    help='weight decay (default: 2e-5)')\n",
    "parser.add_argument('--clip-grad', type=float, default=None, metavar='NORM',\n",
    "                    help='Clip gradient norm (default: None, no clipping)')\n",
    "parser.add_argument('--clip-mode', type=str, default='norm',\n",
    "                    help='Gradient clipping mode. One of (\"norm\", \"value\", \"agc\")')\n",
    "parser.add_argument('--layer-decay', type=float, default=None,\n",
    "                    help='layer-wise learning rate decay (default: None)')\n",
    "\n",
    "# Learning rate schedule parameters\n",
    "parser.add_argument('--sched', default='cosine', type=str, metavar='SCHEDULER',\n",
    "                    help='LR scheduler (default: \"step\"')\n",
    "parser.add_argument('--lr', type=float, default=0.05, metavar='LR',\n",
    "                    help='learning rate (default: 0.05)')\n",
    "parser.add_argument('--lr-noise', type=float, nargs='+', default=None, metavar='pct, pct',\n",
    "                    help='learning rate noise on/off epoch percentages')\n",
    "parser.add_argument('--lr-noise-pct', type=float, default=0.67, metavar='PERCENT',\n",
    "                    help='learning rate noise limit percent (default: 0.67)')\n",
    "parser.add_argument('--lr-noise-std', type=float, default=1.0, metavar='STDDEV',\n",
    "                    help='learning rate noise std-dev (default: 1.0)')\n",
    "parser.add_argument('--lr-cycle-mul', type=float, default=1.0, metavar='MULT',\n",
    "                    help='learning rate cycle len multiplier (default: 1.0)')\n",
    "parser.add_argument('--lr-cycle-decay', type=float, default=0.5, metavar='MULT',\n",
    "                    help='amount to decay each learning rate cycle (default: 0.5)')\n",
    "parser.add_argument('--lr-cycle-limit', type=int, default=1, metavar='N',\n",
    "                    help='learning rate cycle limit, cycles enabled if > 1')\n",
    "parser.add_argument('--lr-k-decay', type=float, default=1.0,\n",
    "                    help='learning rate k-decay for cosine/poly (default: 1.0)')\n",
    "parser.add_argument('--warmup-lr', type=float, default=0.0001, metavar='LR',\n",
    "                    help='warmup learning rate (default: 0.0001)')\n",
    "parser.add_argument('--min-lr', type=float, default=1e-6, metavar='LR',\n",
    "                    help='lower lr bound for cyclic schedulers that hit 0 (1e-5)')\n",
    "parser.add_argument('--epochs', type=int, default=300, metavar='N',\n",
    "                    help='number of epochs to train (default: 300)')\n",
    "parser.add_argument('--epoch-repeats', type=float, default=0., metavar='N',\n",
    "                    help='epoch repeat multiplier (number of times to repeat dataset epoch per train epoch).')\n",
    "parser.add_argument('--start-epoch', default=None, type=int, metavar='N',\n",
    "                    help='manual epoch number (useful on restarts)')\n",
    "parser.add_argument('--decay-milestones', default=[30, 60], type=int, nargs='+', metavar=\"MILESTONES\",\n",
    "                    help='list of decay epoch indices for multistep lr. must be increasing')\n",
    "parser.add_argument('--decay-epochs', type=float, default=100, metavar='N',\n",
    "                    help='epoch interval to decay LR')\n",
    "parser.add_argument('--warmup-epochs', type=int, default=3, metavar='N',\n",
    "                    help='epochs to warmup LR, if scheduler supports')\n",
    "parser.add_argument('--cooldown-epochs', type=int, default=10, metavar='N',\n",
    "                    help='epochs to cooldown LR at min_lr, after cyclic schedule ends')\n",
    "parser.add_argument('--patience-epochs', type=int, default=10, metavar='N',\n",
    "                    help='patience epochs for Plateau LR scheduler (default: 10')\n",
    "parser.add_argument('--decay-rate', '--dr', type=float, default=0.1, metavar='RATE',\n",
    "                    help='LR decay rate (default: 0.1)')\n",
    "\n",
    "# Augmentation & regularization parameters\n",
    "parser.add_argument('--no-aug', action='store_true', default=False,\n",
    "                    help='Disable all training augmentation, override other train aug args')\n",
    "parser.add_argument('--scale', type=float, nargs='+', default=[0.08, 1.0], metavar='PCT',\n",
    "                    help='Random resize scale (default: 0.08 1.0)')\n",
    "parser.add_argument('--ratio', type=float, nargs='+', default=[3./4., 4./3.], metavar='RATIO',\n",
    "                    help='Random resize aspect ratio (default: 0.75 1.33)')\n",
    "parser.add_argument('--hflip', type=float, default=0.5,\n",
    "                    help='Horizontal flip training aug probability')\n",
    "parser.add_argument('--vflip', type=float, default=0.,\n",
    "                    help='Vertical flip training aug probability')\n",
    "parser.add_argument('--color-jitter', type=float, default=0.4, metavar='PCT',\n",
    "                    help='Color jitter factor (default: 0.4)')\n",
    "parser.add_argument('--aa', type=str, default=None, metavar='NAME',\n",
    "                    help='Use AutoAugment policy. \"v0\" or \"original\". (default: None)'),\n",
    "parser.add_argument('--aug-repeats', type=float, default=0,\n",
    "                    help='Number of augmentation repetitions (distributed training only) (default: 0)')\n",
    "parser.add_argument('--aug-splits', type=int, default=0,\n",
    "                    help='Number of augmentation splits (default: 0, valid: 0 or >=2)')\n",
    "parser.add_argument('--jsd-loss', action='store_true', default=False,\n",
    "                    help='Enable Jensen-Shannon Divergence + CE loss. Use with `--aug-splits`.')\n",
    "parser.add_argument('--bce-loss', action='store_true', default=False,\n",
    "                    help='Enable BCE loss w/ Mixup/CutMix use.')\n",
    "parser.add_argument('--bce-target-thresh', type=float, default=None,\n",
    "                    help='Threshold for binarizing softened BCE targets (default: None, disabled)')\n",
    "parser.add_argument('--reprob', type=float, default=0., metavar='PCT',\n",
    "                    help='Random erase prob (default: 0.)')\n",
    "parser.add_argument('--remode', type=str, default='pixel',\n",
    "                    help='Random erase mode (default: \"pixel\")')\n",
    "parser.add_argument('--recount', type=int, default=1,\n",
    "                    help='Random erase count (default: 1)')\n",
    "parser.add_argument('--resplit', action='store_true', default=False,\n",
    "                    help='Do not random erase first (clean) augmentation split')\n",
    "parser.add_argument('--mixup', type=float, default=0.0,\n",
    "                    help='mixup alpha, mixup enabled if > 0. (default: 0.)')\n",
    "parser.add_argument('--cutmix', type=float, default=0.0,\n",
    "                    help='cutmix alpha, cutmix enabled if > 0. (default: 0.)')\n",
    "parser.add_argument('--cutmix-minmax', type=float, nargs='+', default=None,\n",
    "                    help='cutmix min/max ratio, overrides alpha and enables cutmix if set (default: None)')\n",
    "parser.add_argument('--mixup-prob', type=float, default=1.0,\n",
    "                    help='Probability of performing mixup or cutmix when either/both is enabled')\n",
    "parser.add_argument('--mixup-switch-prob', type=float, default=0.5,\n",
    "                    help='Probability of switching to cutmix when both mixup and cutmix enabled')\n",
    "parser.add_argument('--mixup-mode', type=str, default='batch',\n",
    "                    help='How to apply mixup/cutmix params. Per \"batch\", \"pair\", or \"elem\"')\n",
    "parser.add_argument('--mixup-off-epoch', default=0, type=int, metavar='N',\n",
    "                    help='Turn off mixup after this epoch, disabled if 0 (default: 0)')\n",
    "parser.add_argument('--smoothing', type=float, default=0.1,\n",
    "                    help='Label smoothing (default: 0.1)')\n",
    "parser.add_argument('--train-interpolation', type=str, default='random',\n",
    "                    help='Training interpolation (random, bilinear, bicubic default: \"random\")')\n",
    "parser.add_argument('--drop', type=float, default=0.0, metavar='PCT',\n",
    "                    help='Dropout rate (default: 0.)')\n",
    "parser.add_argument('--drop-connect', type=float, default=None, metavar='PCT',\n",
    "                    help='Drop connect rate, DEPRECATED, use drop-path (default: None)')\n",
    "parser.add_argument('--drop-path', type=float, default=None, metavar='PCT',\n",
    "                    help='Drop path rate (default: None)')\n",
    "parser.add_argument('--drop-block', type=float, default=None, metavar='PCT',\n",
    "                    help='Drop block rate (default: None)')\n",
    "\n",
    "# Batch norm parameters (only works with gen_efficientnet based models currently)\n",
    "parser.add_argument('--bn-momentum', type=float, default=None,\n",
    "                    help='BatchNorm momentum override (if not None)')\n",
    "parser.add_argument('--bn-eps', type=float, default=None,\n",
    "                    help='BatchNorm epsilon override (if not None)')\n",
    "parser.add_argument('--sync-bn', action='store_true',\n",
    "                    help='Enable NVIDIA Apex or Torch synchronized BatchNorm.')\n",
    "parser.add_argument('--dist-bn', type=str, default='reduce',\n",
    "                    help='Distribute BatchNorm stats between nodes after each epoch (\"broadcast\", \"reduce\", or \"\")')\n",
    "parser.add_argument('--split-bn', action='store_true',\n",
    "                    help='Enable separate BN layers per augmentation split.')\n",
    "\n",
    "# Model Exponential Moving Average\n",
    "parser.add_argument('--model-ema', action='store_true', default=False,\n",
    "                    help='Enable tracking moving average of model weights')\n",
    "parser.add_argument('--model-ema-force-cpu', action='store_true', default=False,\n",
    "                    help='Force ema to be tracked on CPU, rank=0 node only. Disables EMA validation.')\n",
    "parser.add_argument('--model-ema-decay', type=float, default=0.9998,\n",
    "                    help='decay factor for model weights moving average (default: 0.9998)')\n",
    "\n",
    "# Misc\n",
    "parser.add_argument('--seed', type=int, default=42, metavar='S',\n",
    "                    help='random seed (default: 42)')\n",
    "parser.add_argument('--worker-seeding', type=str, default='all',\n",
    "                    help='worker seed mode (default: all)')\n",
    "parser.add_argument('--log-interval', type=int, default=50, metavar='N',\n",
    "                    help='how many batches to wait before logging training status')\n",
    "parser.add_argument('--recovery-interval', type=int, default=0, metavar='N',\n",
    "                    help='how many batches to wait before writing recovery checkpoint')\n",
    "parser.add_argument('--checkpoint-hist', type=int, default=10, metavar='N',\n",
    "                    help='number of checkpoints to keep (default: 10)')\n",
    "parser.add_argument('-j', '--workers', type=int, default=4, metavar='N',\n",
    "                    help='how many training processes to use (default: 4)')\n",
    "parser.add_argument('--save-images', action='store_true', default=False,\n",
    "                    help='save images of input bathes every log interval for debugging')\n",
    "parser.add_argument('--amp', action='store_true', default=False,\n",
    "                    help='use NVIDIA Apex AMP or Native AMP for mixed precision training')\n",
    "parser.add_argument('--apex-amp', action='store_true', default=False,\n",
    "                    help='Use NVIDIA Apex AMP mixed precision')\n",
    "parser.add_argument('--native-amp', action='store_true', default=False,\n",
    "                    help='Use Native Torch AMP mixed precision')\n",
    "parser.add_argument('--no-ddp-bb', action='store_true', default=False,\n",
    "                    help='Force broadcast buffers for native DDP to off.')\n",
    "parser.add_argument('--pin-mem', action='store_true', default=False,\n",
    "                    help='Pin CPU memory in DataLoader for more efficient (sometimes) transfer to GPU.')\n",
    "parser.add_argument('--no-prefetcher', action='store_true', default=False,\n",
    "                    help='disable fast prefetcher')\n",
    "parser.add_argument('--output', default='', type=str, metavar='PATH',\n",
    "                    help='path to output folder (default: none, current dir)')\n",
    "parser.add_argument('--experiment', default='', type=str, metavar='NAME',\n",
    "                    help='name of train experiment, name of sub-folder for output')\n",
    "parser.add_argument('--eval-metric', default='top1', type=str, metavar='EVAL_METRIC',\n",
    "                    help='Best metric (default: \"top1\"')\n",
    "parser.add_argument('--tta', type=int, default=0, metavar='N',\n",
    "                    help='Test/inference time augmentation (oversampling) factor. 0=None (default: 0)')\n",
    "parser.add_argument(\"--local_rank\", default=0, type=int)\n",
    "parser.add_argument('--use-multi-epochs-loader', action='store_true', default=False,\n",
    "                    help='use the multi-epochs-loader to save time at the beginning of every epoch')\n",
    "parser.add_argument('--log-wandb', action='store_true', default=False,\n",
    "                    help='log training and validation metrics to wandb')"
   ]
  },
  {
   "cell_type": "code",
   "execution_count": 262,
   "id": "6cf94c01-3a93-498d-9f70-f6884c155777",
   "metadata": {},
   "outputs": [],
   "source": [
    "\n",
    "\n",
    "class LitTimm(pl.LightningModule):\n",
    "    \"\"\"A simple wrapper around all the components of timm's train.py for classification\"\"\"\n",
    "    def __init__(\n",
    "        self,\n",
    "        args, # Config args from timm\n",
    "        # lr=1.5e-4,  # Base learning rate, taken from MAE paper for pretraining\n",
    "        # weight_decay=0.05,  # Weight decay\n",
    "        # betas=(0.9, 0.99),  # Parameters for weight decay optimizer\n",
    "        # warmup_epochs=1,  # Num warmup epochs in lr_scheduler\n",
    "        # lr_sched_max_epochs=600,  # Max number of training epochs for scheduler\n",
    "        # check_every=500,  # Perform more extensive checks every `check_every` steps\n",
    "        # train_betas=False,\n",
    "    ):\n",
    "        super().__init__()\n",
    "        self.args = self.proc_args(args)\n",
    "        self.model = timm.create_model(args.model)\n",
    "        # enable split bn (separate bn stats per batch-portion)\n",
    "        if self.args.split_bn:\n",
    "            assert num_aug_splits > 1 or args.resplit\n",
    "            self.model = convert_splitbn_model(self.model, max(self.num_aug_splits, 2))\n",
    "        # self.lr = lr\n",
    "        # self.weight_decay = weight_decay\n",
    "        # self.betas = betas\n",
    "        # self.warmup_epochs = warmup_epochs\n",
    "        # self.lr_sched_max_epochs = lr_sched_max_epochs\n",
    "        # self.check_every = check_every\n",
    "\n",
    "        self._metrics_logged = False\n",
    "        self.save_hyperparameters()\n",
    "        \n",
    "        # Defaults\n",
    "        self.collate_fn = None\n",
    "        self.ds_train = None\n",
    "        self.ds_val = None\n",
    "        self.validate_loss_fn = nn.CrossEntropyLoss()\n",
    "        \n",
    "    @staticmethod\n",
    "    def proc_args(args):\n",
    "        args.prefetcher = not args.no_prefetcher\n",
    "        args.distributed = False\n",
    "        return args\n",
    "    \n",
    "    @ft.cached_property\n",
    "    def data_config(self):\n",
    "        args = self.args\n",
    "        data_config = resolve_data_config(vars(args), model=self.model, verbose=args.local_rank == 0)\n",
    "        return data_config\n",
    "    \n",
    "    @ft.cached_property\n",
    "    def num_aug_splits(self):\n",
    "        args = self.args\n",
    "        # setup augmentation batch splits for contrastive loss or split bn\n",
    "        num_aug_splits = 0\n",
    "        if args.aug_splits > 0:\n",
    "            assert args.aug_splits > 1, 'A split of 1 makes no sense'\n",
    "            num_aug_splits = args.aug_splits\n",
    "        return num_aug_splits\n",
    "    \n",
    "    @ft.cached_property\n",
    "    def mixup_fn(self):\n",
    "        args = self.args\n",
    "        \n",
    "         # setup mixup / cutmix\n",
    "        mixup_fn = None\n",
    "        if self.mixup_active:\n",
    "            mixup_args = dict(\n",
    "                mixup_alpha=args.mixup, cutmix_alpha=args.cutmix, cutmix_minmax=args.cutmix_minmax,\n",
    "                prob=args.mixup_prob, switch_prob=args.mixup_switch_prob, mode=args.mixup_mode,\n",
    "                label_smoothing=args.smoothing, num_classes=args.num_classes)\n",
    "            if args.prefetcher:\n",
    "                assert not num_aug_splits  # collate conflict (need to support deinterleaving in collate mixup)\n",
    "                self.collate_fn = FastCollateMixup(**mixup_args)\n",
    "            else:\n",
    "                mixup_fn = Mixup(**mixup_args)\n",
    "                \n",
    "        return mixup_fn\n",
    "    \n",
    "    @ft.cached_property\n",
    "    def mixup_active(self):\n",
    "        args = self.args\n",
    "        mixup_active = args.mixup > 0 or args.cutmix > 0. or args.cutmix_minmax is not None\n",
    "        return mixup_active\n",
    "\n",
    "        \n",
    "    \n",
    "    @ft.cached_property\n",
    "    def train_loss_fn(self):\n",
    "        args = self.args\n",
    "        if args.jsd_loss:\n",
    "            assert self.num_aug_splits > 1  # JSD only valid with aug splits set\n",
    "            train_loss_fn = JsdCrossEntropy(num_splits=self.num_aug_splits, smoothing=args.smoothing)\n",
    "        elif self.mixup_active:\n",
    "            # smoothing is handled with mixup target transform which outputs sparse, soft targets\n",
    "            if args.bce_loss:\n",
    "                train_loss_fn = BinaryCrossEntropy(target_threshold=args.bce_target_thresh)\n",
    "            else:\n",
    "                train_loss_fn = SoftTargetCrossEntropy()\n",
    "        elif args.smoothing:\n",
    "            if args.bce_loss:\n",
    "                train_loss_fn = BinaryCrossEntropy(smoothing=args.smoothing, target_threshold=args.bce_target_thresh)\n",
    "            else:\n",
    "                train_loss_fn = LabelSmoothingCrossEntropy(smoothing=args.smoothing)\n",
    "        else:\n",
    "            train_loss_fn = nn.CrossEntropyLoss()\n",
    "        return train_loss_fn\n",
    "        \n",
    "        \n",
    "    def setup(self, stage=None):\n",
    "        args = self.args\n",
    "        self.dataset_train = create_dataset(\n",
    "            args.dataset, root=args.data_dir, split=args.train_split, is_training=True,\n",
    "            class_map=args.class_map,\n",
    "            download=args.dataset_download,\n",
    "            batch_size=args.batch_size,\n",
    "            repeats=args.epoch_repeats)\n",
    "        self.dataset_eval = create_dataset(\n",
    "            args.dataset, root=args.data_dir, split=args.val_split, is_training=False,\n",
    "            class_map=args.class_map,\n",
    "            download=args.dataset_download,\n",
    "            batch_size=args.batch_size)\n",
    "                \n",
    "    def train_dataloader(self):\n",
    "        args = self.args\n",
    "        train_interpolation = args.train_interpolation\n",
    "        if args.no_aug or not train_interpolation:\n",
    "            train_interpolation = data_config['interpolation']\n",
    "        loader_train = create_loader(\n",
    "            self.dataset_train,\n",
    "            input_size=self.data_config['input_size'],\n",
    "            batch_size=args.batch_size,\n",
    "            is_training=True,\n",
    "            use_prefetcher=args.prefetcher,\n",
    "            no_aug=args.no_aug,\n",
    "            re_prob=args.reprob,\n",
    "            re_mode=args.remode,\n",
    "            re_count=args.recount,\n",
    "            re_split=args.resplit,\n",
    "            scale=args.scale,\n",
    "            ratio=args.ratio,\n",
    "            hflip=args.hflip,\n",
    "            vflip=args.vflip,\n",
    "            color_jitter=args.color_jitter,\n",
    "            auto_augment=args.aa,\n",
    "            num_aug_repeats=args.aug_repeats,\n",
    "            num_aug_splits=self.num_aug_splits,\n",
    "            interpolation=train_interpolation,\n",
    "            mean=self.data_config['mean'],\n",
    "            std=self.data_config['std'],\n",
    "            num_workers=args.workers,\n",
    "            distributed=args.distributed,\n",
    "            collate_fn=self.collate_fn,\n",
    "            pin_memory=args.pin_mem,\n",
    "            use_multi_epochs_loader=args.use_multi_epochs_loader,\n",
    "            worker_seeding=args.worker_seeding,\n",
    "        )\n",
    "        return loader_train\n",
    "    \n",
    "    def val_dataloader(self):\n",
    "        args = self.args\n",
    "        loader_eval = create_loader(\n",
    "            self.dataset_eval,\n",
    "            input_size=self.data_config['input_size'],\n",
    "            batch_size=args.validation_batch_size or args.batch_size,\n",
    "            is_training=False,\n",
    "            use_prefetcher=args.prefetcher,\n",
    "            interpolation=self.data_config['interpolation'],\n",
    "            mean=self.data_config['mean'],\n",
    "            std=self.data_config['std'],\n",
    "            num_workers=args.workers,\n",
    "            distributed=args.distributed,\n",
    "            crop_pct=self.data_config['crop_pct'],\n",
    "            pin_memory=args.pin_mem,\n",
    "        )\n",
    "        return loader_eval\n",
    "\n",
    "\n",
    "    def configure_optimizers(self):\n",
    "        # Might need to consider alphas here\n",
    "        args = self.args\n",
    "        params = [v for k, v in self.model.named_parameters() if \"betas\" not in k]\n",
    "        optimizer = create_optimizer_v2(self.model, **optimizer_kwargs(cfg=args))\n",
    "        # optimizer = torch.optim.AdamW(\n",
    "        #     params, lr=self.lr, betas=self.betas, weight_decay=self.weight_decay\n",
    "        # )\n",
    "        lr_scheduler, num_epochs = create_scheduler(args, optimizer)\n",
    "\n",
    "        return dict(\n",
    "            optimizer=optimizer,\n",
    "            lr_scheduler=dict(\n",
    "                scheduler=lr_scheduler,\n",
    "                interval=\"epoch\",\n",
    "                frequency=1,\n",
    "            ),\n",
    "        )\n",
    "    \n",
    "    def lr_scheduler_step(self, scheduler, optimizer_idx, metric):\n",
    "        scheduler.step(epoch=self.current_epoch, metric=metric[self.args.eval_metric])  # timm's scheduler need the epoch value\n",
    "        \n",
    "    def training_step(self, batch, batch_idx):\n",
    "        input, target = batch\n",
    "        args = self.args\n",
    "        if args.mixup_off_epoch and self.current_epoch >= self.args.mixup_off_epoch:\n",
    "            if args.prefetcher and loader.mixup_enabled:\n",
    "                loader.mixup_enabled = False\n",
    "            elif self.mixup_fn is not None:\n",
    "                self.mixup_fn.mixup_enabled = False       \n",
    "\n",
    "        if self.mixup_fn is not None:\n",
    "            input, target = mixup_fn(input, target)\n",
    "\n",
    "            output = self(input)\n",
    "            loss = self.train_loss_fn(output, target)\n",
    "\n",
    "        return loss\n",
    "\n",
    "#     def forward(self, x):\n",
    "#         y = self.model(x, False)\n",
    "#         return y\n",
    "    \n",
    "#     def loss(self, y, yhat):\n",
    "#         pass\n",
    "\n",
    "#     def _show_img_grid(\n",
    "#         self,\n",
    "#         imgs: List[torch.Tensor], # List of images to show in each cell, from left to right\n",
    "#         nv: int = 36,  # Max number of images to show of provided batch\n",
    "#     ) -> torch.Tensor:  # CHW Image representating grid of (masked,yhat,y) cells\n",
    "#         \"\"\"Show qualitative reconstructions of a batch of images\"\"\"\n",
    "#         imgs = [\n",
    "#             show_tensor(self.vit.patcher.unpatchify(x[:nv]))\n",
    "#             for x in imgs\n",
    "#         ]\n",
    "#         nrow = int(np.ceil(np.sqrt(len(imgs[0]))))\n",
    "#         imgs = [x.clamp(0,1) for x in imgs]\n",
    "#         # if yhat_partial is not None:\n",
    "#         #     imgs = [occluded, yhat.clamp(0, 1), yhat_partial.clamp(0, 1), y.clamp(0, 1)]\n",
    "#         # else:\n",
    "#         #     imgs = [occluded, yhat.clamp(0, 1), y.clamp(0, 1)]\n",
    "\n",
    "#         plot_img = make_grid(\n",
    "#             rearrange(imgs, \"s b c h w -> b c h (s w)\"),\n",
    "#             nrow=nrow,\n",
    "#             normalize=False,\n",
    "#         )\n",
    "#         return plot_img\n",
    "\n",
    "#     def training_step(self, batch, batch_idx):\n",
    "#         tb = self.logger.experiment\n",
    "#         if not self._metrics_logged:\n",
    "#             tb.add_text(f\"Model Summary\", self.model_summary(), self.global_step)\n",
    "#             self._metrics_logged = True\n",
    "\n",
    "#         # Decode and calc loss\n",
    "#         y, masked_img_tokens, mask = [\n",
    "#             batch[k] for k in [\"img_tokens\", \"masked_img_tokens\", \"mask\"]\n",
    "#         ]\n",
    "#         yhat = self.vit(masked_img_tokens, mask)\n",
    "#         loss = self.loss(y, yhat, mask)\n",
    "\n",
    "#         with torch.no_grad():\n",
    "#             # Collect additional stats on train batch?\n",
    "#             if (self.global_step) % self.check_every == 0:\n",
    "#                 tb.add_scalar(f\"train.loss\", loss, self.global_step)\n",
    "\n",
    "#             # Reconstructions\n",
    "#             if (batch_idx % 1000) == 0:\n",
    "#                 yhat_keep_open = yhat.clone()\n",
    "#                 yhat_keep_open[mask == 0] = y[mask == 0]\n",
    "#                 yhat_just_closed = yhat.clone()\n",
    "#                 yhat_just_closed[mask == 0] = 0.\n",
    "#                 plot_img = self._show_img_grid(\n",
    "#                     [masked_img_tokens,yhat_just_closed, yhat, yhat_keep_open, y], nv=16\n",
    "#                 )\n",
    "#                 tb.add_image(\"train.reconstructions\", plot_img, self.global_step)\n",
    "#         return loss\n",
    "\n",
    "#     def validation_step(self, batch, batch_idx):\n",
    "#         # Only collect qualitative info for first validation batch\n",
    "#         if batch_idx == 0:\n",
    "#             tb = self.logger.experiment\n",
    "#             y, masked_img_tokens, mask = [\n",
    "#                 batch[k] for k in [\"img_tokens\", \"masked_img_tokens\", \"mask\"]\n",
    "#             ]\n",
    "#             yhat = self.vit(masked_img_tokens, mask)\n",
    "#             loss = self.loss(y, yhat, mask)\n",
    "#             tb.add_scalar(f\"val.loss\", loss, self.global_step)\n",
    "\n",
    "#             # Reconstructions\n",
    "#             yhat_keep_open = yhat.clone()\n",
    "#             yhat_keep_open[mask == 0] = y[mask == 0]\n",
    "#             yhat_just_closed = yhat.clone()\n",
    "#             yhat_just_closed[mask == 0] = 0.\n",
    "#             plot_img = self._show_img_grid([masked_img_tokens, yhat_just_closed, yhat, yhat_keep_open, y], nv=16)\n",
    "#             tb.add_image(\"val.reconstructions\", plot_img, self.global_step)"
   ]
  },
  {
   "cell_type": "code",
   "execution_count": 246,
   "id": "9c06f48c-3d93-48db-8a17-19e7ab8148ec",
   "metadata": {},
   "outputs": [],
   "source": [
    "args = parser.parse_args(args=[\n",
    "    \"/gpfs/u/home/DAMT/DAMThvrb/scratch-shared/datasets/imagenet1k\",\n",
    "    \"--cutmix\", \"1.\",\n",
    "    \"--mixup\", \"0.8\",\n",
    "    \"--reprob\", \"0.5\",\n",
    "    \"--aa\", \"rand\"\n",
    "])\n",
    "mod = LitTimm(args)"
   ]
  },
  {
   "cell_type": "code",
   "execution_count": 248,
   "id": "0dfcf320-7047-45ca-98e0-2337ed8068d6",
   "metadata": {},
   "outputs": [],
   "source": [
    "out = mod.configure_optimizers()"
   ]
  },
  {
   "cell_type": "code",
   "execution_count": 256,
   "id": "60b51ed5-c96b-437d-aede-d0082b5007b5",
   "metadata": {},
   "outputs": [],
   "source": [
    "sched = out['lr_scheduler']['scheduler']"
   ]
  },
  {
   "cell_type": "code",
   "execution_count": 230,
   "id": "1c2777f6-a2f1-41eb-8576-aa2c03bb6a94",
   "metadata": {},
   "outputs": [],
   "source": [
    "mod.setup()\n",
    "train_dl = mod.train_dataloader()\n",
    "val_dl = mod.val_dataloader()"
   ]
  },
  {
   "cell_type": "code",
   "execution_count": 231,
   "id": "80273f3e-0777-4292-8954-fef65ff84dc1",
   "metadata": {},
   "outputs": [],
   "source": [
    "for batch in val_dl:\n",
    "    break"
   ]
  },
  {
   "cell_type": "code",
   "execution_count": 232,
   "id": "2a638ecf-b5f1-49c3-9547-6879c703acd7",
   "metadata": {},
   "outputs": [],
   "source": [
    "img,label = batch"
   ]
  },
  {
   "cell_type": "code",
   "execution_count": 220,
   "id": "30539e58-67a1-4ffc-bdd1-1f7c5963f9cf",
   "metadata": {},
   "outputs": [],
   "source": [
    "from timm.data.constants import IMAGENET_DEFAULT_MEAN, IMAGENET_DEFAULT_STD\n",
    "def show_img(x):\n",
    "    tmean = torch.tensor(IMAGENET_DEFAULT_MEAN, device=x.device)\n",
    "    tstd = torch.tensor(IMAGENET_DEFAULT_STD, device=x.device)\n",
    "    return (tstd[:,None,None] * x + tmean[:,None,None]).detach().cpu().numpy().transpose(1,2,0)"
   ]
  },
  {
   "cell_type": "code",
   "execution_count": 227,
   "id": "839b743a-40e0-4f7f-b08d-5739a2a38317",
   "metadata": {},
   "outputs": [
    {
     "data": {
      "text/plain": [
       "<matplotlib.image.AxesImage at 0x7ffde1272a60>"
      ]
     },
     "execution_count": 227,
     "metadata": {},
     "output_type": "execute_result"
    },
    {
     "data": {
      "image/png": "[encoded data removed]",
      "text/plain": [
       "<Figure size 432x288 with 1 Axes>"
      ]
     },
     "metadata": {
      "needs_background": "light"
     },
     "output_type": "display_data"
    }
   ],
   "source": [
    "plt.imshow(show_img(img[122]))"
   ]
  }
 ],
 "metadata": {
  "kernelspec": {
   "display_name": "Python [conda env:timm] *",
   "language": "python",
   "name": "conda-env-timm-py"
  },
  "language_info": {
   "codemirror_mode": {
    "name": "ipython",
    "version": 3
   },
   "file_extension": ".py",
   "mimetype": "text/x-python",
   "name": "python",
   "nbconvert_exporter": "python",
   "pygments_lexer": "ipython3",
   "version": "3.9.12"
  }
 },
 "nbformat": 4,
 "nbformat_minor": 5
}
