{
 "cells": [
  {
   "cell_type": "code",
   "execution_count": 1,
   "id": "82757248-691f-4d95-9301-4b819c53ac1e",
   "metadata": {},
   "outputs": [],
   "source": [
    "%reload_ext autoreload\n",
    "%autoreload 2"
   ]
  },
  {
   "cell_type": "code",
   "execution_count": 12,
   "id": "b512b985-aec8-4942-b15b-cc7fa0c3bd89",
   "metadata": {},
   "outputs": [],
   "source": [
    "from typing import *\n",
    "import math\n",
    "import torch\n",
    "from torch import nn\n",
    "import torch.nn.functional as F\n",
    "from einops import rearrange\n",
    "from timm.models.layers import DropPath\n",
    "from timm.models.layers.helpers import to_2tuple\n",
    "import functools as ft\n",
    "import numbers\n",
    "from tqdm import tqdm\n",
    "import matplotlib.pyplot as plt\n",
    "\n",
    "from timm.models.energy_transformer import ClassicalHopfield, HopfieldMLP, KQEnergyBlock, KQAlignedAttention, EnergyLayerNorm"
   ]
  },
  {
   "cell_type": "code",
   "execution_count": 6,
   "id": "af450cd3-39d4-4011-a76b-d1f18c0910c7",
   "metadata": {},
   "outputs": [],
   "source": [
    "def ifnone(a,b):\n",
    "    if a is None:\n",
    "        return b\n",
    "    return a"
   ]
  },
  {
   "cell_type": "code",
   "execution_count": 8,
   "id": "75375c67-99e6-4144-8607-32317a4ec6c3",
   "metadata": {},
   "outputs": [],
   "source": [
    "mod = HopfieldMLP(768, 4*768, bias=False).to(0)\n",
    "x = torch.randn((32, 768), device=0)"
   ]
  },
  {
   "cell_type": "code",
   "execution_count": 9,
   "id": "eb58b8fc-5147-4c8b-bdcd-8b069d73abc3",
   "metadata": {},
   "outputs": [],
   "source": [
    "depth = 100\n",
    "alpha = 0.1\n",
    "norm = nn.LayerNorm(x.shape[-1], elementwise_affine=False)\n",
    "xx = x\n",
    "energies = [mod.energy(xx)]\n",
    "with torch.no_grad():\n",
    "    for i in range(depth):\n",
    "        g = norm(xx)\n",
    "        xx = x - mod(g)\n",
    "        energies.append(mod.energy(xx))\n",
    "energies = torch.stack(energies)"
   ]
  },
  {
   "cell_type": "code",
   "execution_count": 10,
   "id": "cbafd25e-5247-40ea-a97b-647487314b30",
   "metadata": {},
   "outputs": [
    {
     "data": {
      "text/plain": [
       "[<matplotlib.lines.Line2D at 0x7fff88bac4f0>]"
      ]
     },
     "execution_count": 10,
     "metadata": {},
     "output_type": "execute_result"
    },
    {
     "data": {
      "image/png": "[encoded data removed]",
      "text/plain": [
       "<Figure size 432x288 with 1 Axes>"
      ]
     },
     "metadata": {
      "needs_background": "light"
     },
     "output_type": "display_data"
    }
   ],
   "source": [
    "plt.plot(energies.detach().cpu().numpy()[:,0])"
   ]
  },
  {
   "cell_type": "code",
   "execution_count": 13,
   "id": "f49494b1-5371-4549-9b02-297f7c266e37",
   "metadata": {},
   "outputs": [],
   "source": [
    "#hide\n",
    "bs, N, dim = 32,196,768\n",
    "nheads=8\n",
    "attn = KQAlignedAttention(dim, nheads, False, head_dim=64).to(0)\n",
    "toks = torch.randn(bs,N,dim).to(0)\n",
    "toks_out = attn(toks)"
   ]
  },
  {
   "cell_type": "code",
   "execution_count": 14,
   "id": "40fd8de7-40dc-4e79-a8c3-b7e7ef7ee66f",
   "metadata": {},
   "outputs": [
    {
     "data": {
      "text/plain": [
       "['betas', 'q_proj.weight', 'k_proj.weight']"
      ]
     },
     "execution_count": 14,
     "metadata": {},
     "output_type": "execute_result"
    }
   ],
   "source": [
    "[k for k,v in attn.named_parameters()]"
   ]
  },
  {
   "cell_type": "code",
   "execution_count": 15,
   "id": "56b9b291-955c-425c-b5f6-d92f8cb3b192",
   "metadata": {},
   "outputs": [
    {
     "name": "stderr",
     "output_type": "stream",
     "text": [
      "100%|██████████████████████████████████████████████████████████████████████| 100/100 [00:00<00:00, 143.77it/s]\n"
     ]
    }
   ],
   "source": [
    "# Naive check: am I descending energy?\n",
    "alpha = 1\n",
    "depth = 100\n",
    "x = toks\n",
    "norm = nn.LayerNorm(x.shape[-1], elementwise_affine=False, device=x.device)\n",
    "energies = [attn.energy(norm(x))]\n",
    "with torch.no_grad():\n",
    "    for i in tqdm(range(depth)):\n",
    "        g = norm(x)\n",
    "        x = x - alpha*attn(g)\n",
    "        energies.append(attn.energy(norm(x)))\n",
    "    \n",
    "energies=torch.stack(energies)"
   ]
  },
  {
   "cell_type": "code",
   "execution_count": 16,
   "id": "69237079-c517-471b-aca9-f62c24735d36",
   "metadata": {},
   "outputs": [
    {
     "data": {
      "text/plain": [
       "[<matplotlib.lines.Line2D at 0x7ffbbc77fc10>]"
      ]
     },
     "execution_count": 16,
     "metadata": {},
     "output_type": "execute_result"
    },
    {
     "data": {
      "image/png": "[encoded data removed]",
      "text/plain": [
       "<Figure size 432x288 with 1 Axes>"
      ]
     },
     "metadata": {
      "needs_background": "light"
     },
     "output_type": "display_data"
    }
   ],
   "source": [
    "plt.plot(energies[:,0].detach().cpu().numpy())"
   ]
  },
  {
   "cell_type": "code",
   "execution_count": 17,
   "id": "b76169ac-26e9-4eac-b250-2d20d73377ef",
   "metadata": {},
   "outputs": [],
   "source": [
    "class EnergyLayerNorm(nn.Module):\n",
    "    def __init__(self, normalized_shape: Union[int, List[int], torch.Size], eps: float=1e-5, train_scale=True, train_bias=True, device=None, dtype=None):\n",
    "        \"\"\"An energy plausible version of layernorm, assumes the dimension of interest is dim=-1\"\"\"\n",
    "        factory_kwargs = {'device': device, 'dtype': dtype}\n",
    "        super().__init__()\n",
    "        self.train_scale = train_scale\n",
    "        self.train_bias = train_bias\n",
    "        self.normalized_shape=normalized_shape\n",
    "        \n",
    "        if self.train_scale:\n",
    "            self.weight = nn.Parameter(torch.empty(1, **factory_kwargs))\n",
    "        else:\n",
    "            self.register_parameter('weight', None)\n",
    "            \n",
    "        if self.train_bias:\n",
    "            self.bias = nn.Parameter(torch.empty(self.normalized_shape, **factory_kwargs))\n",
    "        else:\n",
    "            self.register_parameter('bias', None)\n",
    "        \n",
    "        self.reset_parameters()\n",
    "        \n",
    "    def reset_parameters(self) -> None:\n",
    "        if self.train_scale:\n",
    "            nn.init.ones_(self.weight)\n",
    "        if self.train_bias:\n",
    "            nn.init.zeros_(self.bias)\n",
    "            \n",
    "    def forward(self, x: torch.Tensor) -> torch.Tensor:\n",
    "        weight = self.weight if self.train_scale else 1.\n",
    "        bias = self.bias if self.train_bias else 0.\n",
    "                \n",
    "        std, mean = torch.std_mean(x, -1, keepdim=True)\n",
    "        return weight * (x - mean) / std + bias \n",
    "    \n",
    "class KQEnergyBlock(nn.Module):\n",
    "    def __init__(\n",
    "            self, dim, num_heads, mlp_ratio=4., qkv_bias=False, init_values=None, act_layer=nn.ReLU):#, norm_layer=EnergyLayerNorm):\n",
    "        super().__init__()\n",
    "        self.attn = KQAlignedAttention(dim, num_heads=num_heads, qkv_bias=qkv_bias)\n",
    "        self.chn = HopfieldMLP(in_features=dim, hidden_features=int(dim * mlp_ratio), act_layer=act_layer)\n",
    "\n",
    "    def forward(self, g, alpha=0.1):\n",
    "        return self.attn(g) + self.chn(g)\n",
    "\n",
    "    def energy(self, x):\n",
    "        return self.attn.energy(x) + self.chn.energy(x).sum(-1)"
   ]
  },
  {
   "cell_type": "code",
   "execution_count": 18,
   "id": "d96250f9-e4bf-403f-9cc9-8b4eb46fdd61",
   "metadata": {},
   "outputs": [],
   "source": [
    "block = KQEnergyBlock(768, 8).to(toks.device)"
   ]
  },
  {
   "cell_type": "code",
   "execution_count": 19,
   "id": "be41d53d-9d1b-46da-b297-c25c033a57a1",
   "metadata": {},
   "outputs": [
    {
     "name": "stderr",
     "output_type": "stream",
     "text": [
      "100%|████████████████████████████████████████████████████████████████████| 1000/1000 [00:02<00:00, 499.62it/s]\n"
     ]
    }
   ],
   "source": [
    "# Naive check: am I descending energy?\n",
    "alpha = 0.1\n",
    "depth = 1000\n",
    "n_energies = 1000\n",
    "energy_every = depth // n_energies\n",
    "x = toks[:1]\n",
    "norm = EnergyLayerNorm(x.shape[-1], device=x.device)\n",
    "energies = torch.empty(n_energies+1)\n",
    "energies[0] = block.energy(norm(x))[0]\n",
    "with torch.no_grad():\n",
    "    for i in tqdm(range(depth)):\n",
    "        g = norm(x)\n",
    "        x = x - alpha*block(g)\n",
    "        if ((i+1)%energy_every) == 0:\n",
    "            j = (i+1) // energy_every\n",
    "            energies[j] = block.energy(norm(x))[0]"
   ]
  },
  {
   "cell_type": "code",
   "execution_count": 20,
   "id": "99497602-37a5-47d2-83d4-c436d98c90fb",
   "metadata": {},
   "outputs": [
    {
     "data": {
      "text/plain": [
       "[<matplotlib.lines.Line2D at 0x7ffbbc74aa30>]"
      ]
     },
     "execution_count": 20,
     "metadata": {},
     "output_type": "execute_result"
    },
    {
     "data": {
      "image/png": "[encoded data removed]",
      "text/plain": [
       "<Figure size 432x288 with 1 Axes>"
      ]
     },
     "metadata": {
      "needs_background": "light"
     },
     "output_type": "display_data"
    }
   ],
   "source": [
    "plt.plot(energies.detach().cpu().numpy())"
   ]
  },
  {
   "cell_type": "code",
   "execution_count": 24,
   "id": "e8ff4f65-bc61-4596-8110-b5e03dab6f9f",
   "metadata": {},
   "outputs": [],
   "source": [
    "from timm.models.helpers import checkpoint_seq"
   ]
  },
  {
   "cell_type": "code",
   "execution_count": 30,
   "id": "b1789d91-8dac-4725-a847-12e81439e601",
   "metadata": {},
   "outputs": [],
   "source": [
    "from timm.models.energy_transformer import EnergyVisionTransformer"
   ]
  },
  {
   "cell_type": "code",
   "execution_count": 81,
   "id": "f4224fdf-860c-4c7b-9385-1ef912b2bb3b",
   "metadata": {},
   "outputs": [],
   "source": [
    "bs, C,H,W = 7, 3, 224, 224\n",
    "x = torch.randn((bs,C,H,W)).to(0)\n",
    "model=EnergyVisionTransformer(embed_dim=768, num_heads=8, qkv_bias=False, depth=1).to(0)"
   ]
  },
  {
   "cell_type": "code",
   "execution_count": 82,
   "id": "230486a4-fa15-4ec2-b636-38f760c2ed83",
   "metadata": {},
   "outputs": [],
   "source": [
    "y = model.forward_features(x)"
   ]
  }
 ],
 "metadata": {
  "kernelspec": {
   "display_name": "Python [conda env:timm] *",
   "language": "python",
   "name": "conda-env-timm-py"
  },
  "language_info": {
   "codemirror_mode": {
    "name": "ipython",
    "version": 3
   },
   "file_extension": ".py",
   "mimetype": "text/x-python",
   "name": "python",
   "nbconvert_exporter": "python",
   "pygments_lexer": "ipython3",
   "version": "3.9.12"
  }
 },
 "nbformat": 4,
 "nbformat_minor": 5
}
